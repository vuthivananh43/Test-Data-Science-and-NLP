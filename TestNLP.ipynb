{
 "cells": [
  {
   "cell_type": "markdown",
   "metadata": {
    "colab": {
     "base_uri": "https://localhost:8080/",
     "height": 139
    },
    "colab_type": "code",
    "executionInfo": {
     "elapsed": 2714,
     "status": "ok",
     "timestamp": 1552286101777,
     "user": {
      "displayName": "Nam Hoang",
      "photoUrl": "",
      "userId": "03692964369482339552"
     },
     "user_tz": -60
    },
    "id": "If21yg6Ts-gV",
    "outputId": "9baad40b-03f8-4761-e4d5-4e92923de174"
   },
   "source": [
    "# Text classification"
   ]
  },
  {
   "cell_type": "code",
   "execution_count": 1,
   "metadata": {
    "colab": {},
    "colab_type": "code",
    "id": "0j0IdnRss-jC"
   },
   "outputs": [],
   "source": [
    "# Importing some libraries\n",
    "import numpy as np\n",
    "import pandas as pd\n",
    "import matplotlib.pyplot as plt\n",
    "import seaborn as sns\n",
    "from wordcloud import WordCloud\n",
    "%matplotlib inline\n",
    "plt.style.use('ggplot')\n",
    "\n",
    "import re\n",
    "import string\n",
    "\n",
    "from nltk.tokenize import word_tokenize\n",
    "from nltk.corpus import stopwords\n",
    "from nltk.stem.wordnet import WordNetLemmatizer\n",
    "from nltk import FreqDist\n",
    "import eli5\n",
    "\n",
    "from sklearn.feature_extraction.text import TfidfVectorizer, CountVectorizer\n",
    "from sklearn.decomposition import SparsePCA, TruncatedSVD\n",
    "from sklearn.metrics import confusion_matrix, accuracy_score, f1_score, roc_auc_score, auc, roc_curve\n",
    "from sklearn.model_selection import train_test_split, GridSearchCV, KFold, RandomizedSearchCV\n",
    "from sklearn.linear_model import LogisticRegression\n",
    "from sklearn.neural_network import MLPClassifier\n",
    "from sklearn.ensemble import RandomForestClassifier, GradientBoostingClassifier\n",
    "from sklearn.svm import SVC\n",
    "\n",
    "import xgboost as xgb\n",
    "import lightgbm as lgb\n",
    "import catboost as cb"
   ]
  },
  {
   "cell_type": "markdown",
   "metadata": {},
   "source": [
    "## 1. Exploratory Data Analysis (EDA)"
   ]
  },
  {
   "cell_type": "code",
   "execution_count": 2,
   "metadata": {
    "colab": {},
    "colab_type": "code",
    "id": "H0GO-Rdhs-lj"
   },
   "outputs": [],
   "source": [
    "# Importing dataset\n",
    "df = pd.read_csv('../input/act_couv.csv', sep = ';')"
   ]
  },
  {
   "cell_type": "code",
   "execution_count": 3,
   "metadata": {},
   "outputs": [
    {
     "data": {
      "text/html": [
       "<div>\n",
       "<style scoped>\n",
       "    .dataframe tbody tr th:only-of-type {\n",
       "        vertical-align: middle;\n",
       "    }\n",
       "\n",
       "    .dataframe tbody tr th {\n",
       "        vertical-align: top;\n",
       "    }\n",
       "\n",
       "    .dataframe thead th {\n",
       "        text-align: right;\n",
       "    }\n",
       "</style>\n",
       "<table border=\"1\" class=\"dataframe\">\n",
       "  <thead>\n",
       "    <tr style=\"text-align: right;\">\n",
       "      <th></th>\n",
       "      <th>description</th>\n",
       "      <th>class</th>\n",
       "    </tr>\n",
       "  </thead>\n",
       "  <tbody>\n",
       "    <tr>\n",
       "      <th>0</th>\n",
       "      <td>entreprises de menuiserie fabricant de porte p...</td>\n",
       "      <td>False</td>\n",
       "    </tr>\n",
       "    <tr>\n",
       "      <th>1</th>\n",
       "      <td>cheminees  accessoires specialiste du fer forg...</td>\n",
       "      <td>False</td>\n",
       "    </tr>\n",
       "    <tr>\n",
       "      <th>2</th>\n",
       "      <td>bricolage  outillage reproduction de cle robin...</td>\n",
       "      <td>False</td>\n",
       "    </tr>\n",
       "    <tr>\n",
       "      <th>3</th>\n",
       "      <td>vente  pose de revetements de sols et de murs ...</td>\n",
       "      <td>False</td>\n",
       "    </tr>\n",
       "    <tr>\n",
       "      <th>4</th>\n",
       "      <td>vente  installation de chauffage   vente  inst...</td>\n",
       "      <td>True</td>\n",
       "    </tr>\n",
       "  </tbody>\n",
       "</table>\n",
       "</div>"
      ],
      "text/plain": [
       "                                         description  class\n",
       "0  entreprises de menuiserie fabricant de porte p...  False\n",
       "1  cheminees  accessoires specialiste du fer forg...  False\n",
       "2  bricolage  outillage reproduction de cle robin...  False\n",
       "3  vente  pose de revetements de sols et de murs ...  False\n",
       "4  vente  installation de chauffage   vente  inst...   True"
      ]
     },
     "execution_count": 3,
     "metadata": {},
     "output_type": "execute_result"
    }
   ],
   "source": [
    "df.head()"
   ]
  },
  {
   "cell_type": "code",
   "execution_count": 4,
   "metadata": {},
   "outputs": [
    {
     "name": "stdout",
     "output_type": "stream",
     "text": [
      "<class 'pandas.core.frame.DataFrame'>\n",
      "RangeIndex: 6663 entries, 0 to 6662\n",
      "Data columns (total 2 columns):\n",
      "description    6663 non-null object\n",
      "class          6663 non-null bool\n",
      "dtypes: bool(1), object(1)\n",
      "memory usage: 58.6+ KB\n"
     ]
    }
   ],
   "source": [
    "# Some informations\n",
    "df.info()"
   ]
  },
  {
   "cell_type": "markdown",
   "metadata": {},
   "source": [
    "**Comment:**\n",
    "\n",
    "As can be seen, this database contains totally 6663 observations (rows) of 2 variables (`description` and `class` ). There are no missing values in the database and the types of database includes object and boolean, more detail, `description` is object type, predictor variable `class` is boolean."
   ]
  },
  {
   "cell_type": "code",
   "execution_count": 5,
   "metadata": {},
   "outputs": [
    {
     "data": {
      "image/png": "[encoded data removed]",
      "text/plain": [
       "<Figure size 432x432 with 1 Axes>"
      ]
     },
     "metadata": {
      "needs_background": "light"
     },
     "output_type": "display_data"
    }
   ],
   "source": [
    "# Distribution of `class`\n",
    "plt.figure(figsize = (6, 6));\n",
    "g = sns.countplot(x = 'class', data = df)\n",
    "plt.title('Number of observation in the dataset in each group of class');\n",
    "ax = g.axes\n",
    "for p in ax.patches:\n",
    "     ax.annotate(f\"{p.get_height() * 100 / df.shape[0]:.2f}%\", (p.get_x() + p.get_width() / 2., p.get_height()),\n",
    "         ha='center', va='center', fontsize=11, color='green', rotation=0, xytext=(0, 10),\n",
    "         textcoords='offset points') "
   ]
  },
  {
   "cell_type": "markdown",
   "metadata": {},
   "source": [
    "**Comment:** \n",
    "\n",
    "Obviously `class` = `False` accounts for large proportion in dataset with 85.62%. As a result, this is a problem of text classification with imbalanced classes, thus, accuracy is not a good metric evaluation. So, area under the receiver operation characteristic (ROC) curve (AUC) and F1-score is the main metric employed in this problem."
   ]
  },
  {
   "cell_type": "code",
   "execution_count": 6,
   "metadata": {},
   "outputs": [
    {
     "name": "stdout",
     "output_type": "stream",
     "text": [
      "TEXT 1: entreprises de terrassement     \n",
      "\n",
      "TEXT 2: entreprises d electricite generale     \n",
      "\n",
      "TEXT 3: serrurerie  metallerie ouvrages commandes en fer forge creation d objets decoratifs reparation de machines agricoles pose de portes  de portails  de gardes corps boutique en ligne devis gratuit produits portails sur mesure defenses de fenetres gardes corps artisan  forts de 10 ans d experience dans la serrurerie et la metallerie  nous intervenons pour la realisation de vos portails traditionnels ou personnalises nous vous invitons aussi a connaitre gaston  l escargot bourguignon   une mascotte qui voyage partout et qui est fabriquee artisanalement le totem peut trouver sa place a la maison  au bureau ou meme au jardin  \n",
      "\n",
      "TEXT 4: pose  entretien  vitrification de parquets entretien de parquet cire nettoyage  poncage de parquet pose de parquet stratifie  de plancher flottant renovation de plancher  de parquet vente de parquet vitrification de parquet ancien marques blanchon bona produits parquet ancien  en bambou  colle  contrecolle  pour escalier  exterieur  massif  en pvc parquet stratifie  pour terrasse plancher en bambou  stratifie  flottant  en teck  en chene  en chene massif qualibat pose  entretien  vitrification de parquets vente  pose de revetements de sols et de murs parquets  \n",
      "\n",
      "TEXT 5: paysagistes amenagement d allee pose de dallage exterieur  en pierre  de dalle gravillonnee  de dalle de terrasse creation de bassin engazonnement terrassement paysager produits chape cloture bois artisan paysagistes pose de carrelages  de dallages amenagement  entretien de jardins  de parcs entreprises de maconnerie clotures  barrieres entreprises de pavage entretien   creation parcs et jardins   taille   elagage   abattage   mini pelle   petite maconnerie   dallage   pavage   cloture   barriere  \n",
      "\n"
     ]
    }
   ],
   "source": [
    "# Displaying some texts\n",
    "for i in range(5):\n",
    "    np.random.seed(i + 167)\n",
    "    print(f'TEXT {i + 1}: {df.iloc[np.random.randint(len(df)), 0]} \\n')"
   ]
  },
  {
   "cell_type": "markdown",
   "metadata": {},
   "source": [
    "**Comment:** \n",
    "\n",
    "These texts seem to be used to describe the differences, tasks, user manual guide in the field of DIY (Do-it-yourself) and interior works. However, these texts had been pre-processed so it is difficult to understand the specific content. The punctuation and emphasis accent (these texts are in french) had been removed, but there are much white space and stop word such as à, de, d', l', etc. So, several cleaning text step are taken as tokenizing, removing stopwords and lemmatizing."
   ]
  },
  {
   "cell_type": "code",
   "execution_count": 7,
   "metadata": {
    "colab": {},
    "colab_type": "code",
    "id": "PuaLWoyJs-oV"
   },
   "outputs": [],
   "source": [
    "# Function to clean texts\n",
    "def clean(x):   \n",
    "    x = word_tokenize(x) #tokenizing\n",
    "    x = [word for word in x if not word in stopwords.words('french')] #removing stopwords\n",
    "    regex = re.compile('[%s]' % re.escape(string.punctuation))\n",
    "    x = [regex.sub('', word) for word in x if not regex.sub('', word) == ''] #removing punctuation\n",
    "    wordnet = WordNetLemmatizer()\n",
    "    x = [wordnet.lemmatize(word) for word in x] #lemmatizing\n",
    "    return ' '.join(x)"
   ]
  },
  {
   "cell_type": "code",
   "execution_count": 8,
   "metadata": {
    "colab": {},
    "colab_type": "code",
    "id": "LnzWJHc8s-rK"
   },
   "outputs": [],
   "source": [
    "# Cleaning text\n",
    "df['cleaned_text'] = df['description'].apply(clean)"
   ]
  },
  {
   "cell_type": "code",
   "execution_count": 9,
   "metadata": {},
   "outputs": [
    {
     "name": "stdout",
     "output_type": "stream",
     "text": [
      "TEXT 1: entreprises terrassement \n",
      "\n",
      "TEXT 2: entreprises electricite generale \n",
      "\n",
      "TEXT 3: serrurerie metallerie ouvrages commandes fer forge creation objets decoratifs reparation machine agricoles pose porte portails gardes corp boutique ligne devi gratuit produits portails mesure defense fenetres gardes corp artisan fort 10 an experience serrurerie metallerie intervenons realisation portails traditionnels personnalises invitons aussi a connaitre gaston escargot bourguignon mascotte voyage partout fabriquee artisanalement totem peut trouver place a maison bureau meme jardin \n",
      "\n",
      "TEXT 4: pose entretien vitrification parquet entretien parquet cire nettoyage poncage parquet pose parquet stratifie plancher flottant renovation plancher parquet vente parquet vitrification parquet ancien marque blanchon bona produits parquet ancien bambou colle contrecolle escalier exterieur massif pvc parquet stratifie terrasse plancher bambou stratifie flottant teck chene chene massif qualibat pose entretien vitrification parquet vente pose revetement sol murs parquet \n",
      "\n",
      "TEXT 5: paysagistes amenagement allee pose dallage exterieur pierre dalle gravillonnee dalle terrasse creation bassin engazonnement terrassement paysager produits chape cloture bois artisan paysagistes pose carrelages dallages amenagement entretien jardins parcs entreprises maconnerie cloture barrieres entreprises pavage entretien creation parcs jardins taille elagage abattage mini pelle petite maconnerie dallage pavage cloture barriere \n",
      "\n"
     ]
    }
   ],
   "source": [
    "# Displaying these texts above after cleaning\n",
    "for i in range(5):\n",
    "    np.random.seed(i + 167)\n",
    "    print(f'TEXT {i + 1}: {df.iloc[np.random.randint(len(df)), 2]} \\n')"
   ]
  },
  {
   "cell_type": "code",
   "execution_count": 10,
   "metadata": {
    "colab": {},
    "colab_type": "code",
    "id": "ZcznhpDls-tf"
   },
   "outputs": [],
   "source": [
    "# Creating dictionary containing all words and their frequencies \n",
    "text = ' '.join(df['cleaned_text'].values)\n",
    "dic = FreqDist(text.split(' '))"
   ]
  },
  {
   "cell_type": "code",
   "execution_count": 11,
   "metadata": {},
   "outputs": [
    {
     "name": "stdout",
     "output_type": "stream",
     "text": [
      "Number of different words in dataset: 8177\n"
     ]
    }
   ],
   "source": [
    "print(f'Number of different words in dataset: {len(dic)}')"
   ]
  },
  {
   "cell_type": "code",
   "execution_count": 12,
   "metadata": {},
   "outputs": [
    {
     "data": {
      "text/plain": [
       "[('entreprises', 4899),\n",
       " ('installation', 3418),\n",
       " ('a', 3234),\n",
       " ('travaux', 2411),\n",
       " ('pose', 2378),\n",
       " ('menuiserie', 2098),\n",
       " ('vente', 2071),\n",
       " ('produits', 1840),\n",
       " ('porte', 1695),\n",
       " ('renovation', 1682),\n",
       " ('electricite', 1636),\n",
       " ('chauffage', 1586),\n",
       " ('peinture', 1570),\n",
       " ('depannage', 1401),\n",
       " ('generale', 1249),\n",
       " ('bois', 1163),\n",
       " ('isolation', 1083),\n",
       " ('le', 1071),\n",
       " ('maconnerie', 1057),\n",
       " ('couverture', 1050)]"
      ]
     },
     "execution_count": 12,
     "metadata": {},
     "output_type": "execute_result"
    }
   ],
   "source": [
    "# Top 20 highest frequency words\n",
    "sorted(dic.items(), key=lambda y: y[1], reverse = True)[:20]"
   ]
  },
  {
   "cell_type": "code",
   "execution_count": 13,
   "metadata": {},
   "outputs": [
    {
     "data": {
      "text/plain": [
       "(-0.5, 1199.5, 999.5, -0.5)"
      ]
     },
     "execution_count": 13,
     "metadata": {},
     "output_type": "execute_result"
    },
    {
     "data": {
      "image/png": "[encoded data removed]",
      "text/plain": [
       "<Figure size 720x504 with 1 Axes>"
      ]
     },
     "metadata": {
      "needs_background": "light"
     },
     "output_type": "display_data"
    }
   ],
   "source": [
    "# Using WordCloud to look at most common words\n",
    "fig, ax = plt.subplots(figsize = (10, 7))\n",
    "text = ' '.join(df['cleaned_text'].values)\n",
    "wordcloud = WordCloud(max_font_size=None, background_color='white',\n",
    "                      width=1200, height=1000).generate(text)\n",
    "plt.imshow(wordcloud)\n",
    "plt.title('Top words', fontsize = 16)\n",
    "plt.axis(\"off\")"
   ]
  },
  {
   "cell_type": "markdown",
   "metadata": {},
   "source": [
    "Let's use ELI5 library for prediction explanation. I'll fit a basic vectorizer on desctriptions and build a simple Random Forest model. Then we will look at words which caused certain labels to be predicted."
   ]
  },
  {
   "cell_type": "code",
   "execution_count": 14,
   "metadata": {},
   "outputs": [
    {
     "data": {
      "text/plain": [
       "RandomForestClassifier(bootstrap=True, class_weight=None, criterion='gini',\n",
       "            max_depth=None, max_features='auto', max_leaf_nodes=None,\n",
       "            min_impurity_decrease=0.0, min_impurity_split=None,\n",
       "            min_samples_leaf=1, min_samples_split=2,\n",
       "            min_weight_fraction_leaf=0.0, n_estimators=20, n_jobs=None,\n",
       "            oob_score=False, random_state=None, verbose=0,\n",
       "            warm_start=False)"
      ]
     },
     "execution_count": 14,
     "metadata": {},
     "output_type": "execute_result"
    }
   ],
   "source": [
    "vectorizer = TfidfVectorizer(ngram_range=(1, 2))\n",
    "\n",
    "vectorizer.fit(df['cleaned_text'].values)\n",
    "X_train = vectorizer.transform(df['cleaned_text'].values)\n",
    "\n",
    "rf = RandomForestClassifier(n_estimators=20)\n",
    "rf.fit(X_train, df['class'])"
   ]
  },
  {
   "cell_type": "code",
   "execution_count": 18,
   "metadata": {},
   "outputs": [
    {
     "name": "stdout",
     "output_type": "stream",
     "text": [
      "Text 1:\n"
     ]
    },
    {
     "data": {
      "text/html": [
       "\n",
       "    <style>\n",
       "    table.eli5-weights tr:hover {\n",
       "        filter: brightness(85%);\n",
       "    }\n",
       "</style>\n",
       "\n",
       "\n",
       "\n",
       "    \n",
       "\n",
       "    \n",
       "\n",
       "    \n",
       "\n",
       "    \n",
       "\n",
       "    \n",
       "\n",
       "    \n",
       "\n",
       "\n",
       "    \n",
       "\n",
       "    \n",
       "\n",
       "    \n",
       "\n",
       "    \n",
       "        \n",
       "\n",
       "    \n",
       "\n",
       "        \n",
       "\n",
       "        \n",
       "    \n",
       "        \n",
       "        \n",
       "    \n",
       "        <p style=\"margin-bottom: 0.5em; margin-top: 0em\">\n",
       "            <b>\n",
       "    \n",
       "        y=False\n",
       "    \n",
       "</b>\n",
       "\n",
       "    \n",
       "    (probability <b>0.950</b>)\n",
       "\n",
       "top features\n",
       "        </p>\n",
       "    \n",
       "    <table class=\"eli5-weights\"\n",
       "           style=\"border-collapse: collapse; border: none; margin-top: 0em; table-layout: auto; margin-bottom: 2em;\">\n",
       "        <thead>\n",
       "        <tr style=\"border: none;\">\n",
       "            \n",
       "                <th style=\"padding: 0 1em 0 0.5em; text-align: right; border: none;\" title=\"Feature contribution already accounts for the feature value (for linear models, contribution = weight * feature value), and the sum of feature contributions is equal to the score or, for some classifiers, to the probability. Feature values are shown if &quot;show_feature_values&quot; is True.\">\n",
       "                    Contribution<sup>?</sup>\n",
       "                </th>\n",
       "            \n",
       "            <th style=\"padding: 0 0.5em 0 0.5em; text-align: left; border: none;\">Feature</th>\n",
       "            \n",
       "        </tr>\n",
       "        </thead>\n",
       "        <tbody>\n",
       "        \n",
       "            <tr style=\"background-color: hsl(120, 100.00%, 80.00%); border: none;\">\n",
       "    <td style=\"padding: 0 1em 0 0.5em; text-align: right; border: none;\">\n",
       "        +0.855\n",
       "    </td>\n",
       "    <td style=\"padding: 0 0.5em 0 0.5em; text-align: left; border: none;\">\n",
       "        &lt;BIAS&gt;\n",
       "    </td>\n",
       "    \n",
       "</tr>\n",
       "        \n",
       "            <tr style=\"background-color: hsl(120, 100.00%, 99.11%); border: none;\">\n",
       "    <td style=\"padding: 0 1em 0 0.5em; text-align: right; border: none;\">\n",
       "        +0.010\n",
       "    </td>\n",
       "    <td style=\"padding: 0 0.5em 0 0.5em; text-align: left; border: none;\">\n",
       "        appareils electromenagers\n",
       "    </td>\n",
       "    \n",
       "</tr>\n",
       "        \n",
       "            <tr style=\"background-color: hsl(120, 100.00%, 99.34%); border: none;\">\n",
       "    <td style=\"padding: 0 1em 0 0.5em; text-align: right; border: none;\">\n",
       "        +0.007\n",
       "    </td>\n",
       "    <td style=\"padding: 0 0.5em 0 0.5em; text-align: left; border: none;\">\n",
       "        couverture\n",
       "    </td>\n",
       "    \n",
       "</tr>\n",
       "        \n",
       "            <tr style=\"background-color: hsl(120, 100.00%, 99.36%); border: none;\">\n",
       "    <td style=\"padding: 0 1em 0 0.5em; text-align: right; border: none;\">\n",
       "        +0.006\n",
       "    </td>\n",
       "    <td style=\"padding: 0 0.5em 0 0.5em; text-align: left; border: none;\">\n",
       "        entreprises couverture\n",
       "    </td>\n",
       "    \n",
       "</tr>\n",
       "        \n",
       "        \n",
       "            <tr style=\"background-color: hsl(120, 100.00%, 99.36%); border: none;\">\n",
       "                <td colspan=\"2\" style=\"padding: 0 0.5em 0 0.5em; text-align: center; border: none; white-space: nowrap;\">\n",
       "                    <i>&hellip; 958 more positive &hellip;</i>\n",
       "                </td>\n",
       "            </tr>\n",
       "        \n",
       "\n",
       "        \n",
       "            <tr style=\"background-color: hsl(0, 100.00%, 98.47%); border: none;\">\n",
       "                <td colspan=\"2\" style=\"padding: 0 0.5em 0 0.5em; text-align: center; border: none; white-space: nowrap;\">\n",
       "                    <i>&hellip; 127 more negative &hellip;</i>\n",
       "                </td>\n",
       "            </tr>\n",
       "        \n",
       "        \n",
       "            <tr style=\"background-color: hsl(0, 100.00%, 98.47%); border: none;\">\n",
       "    <td style=\"padding: 0 1em 0 0.5em; text-align: right; border: none;\">\n",
       "        -0.022\n",
       "    </td>\n",
       "    <td style=\"padding: 0 0.5em 0 0.5em; text-align: left; border: none;\">\n",
       "        Highlighted in text (sum)\n",
       "    </td>\n",
       "    \n",
       "</tr>\n",
       "        \n",
       "\n",
       "        </tbody>\n",
       "    </table>\n",
       "\n",
       "    \n",
       "\n",
       "\n",
       "\n",
       "    <p style=\"margin-bottom: 2.5em; margin-top:-0.5em;\">\n",
       "        <span style=\"opacity: 0.80\">depannage plomberie plombier chauffagiste depannage plomberie depannage chauffage entretien chaudieres recherche fuites specialiste degats eaux debouchage wc canalisation ramonage chaudieres entretien systemes chauffage remplacement chaudieres a gaz a condensation cumulus electrique mise normes </span><span style=\"background-color: hsl(120, 100.00%, 93.98%); opacity: 0.81\" title=\"0.003\">installation</span><span style=\"opacity: 0.80\"> a gaz intervention garantie 1 </span><span style=\"background-color: hsl(120, 100.00%, 93.41%); opacity: 0.82\" title=\"0.004\">an</span><span style=\"opacity: 0.80\"> devi deplacements gratuits depannage plomberie blagnac marque saunier duval vaillant elm leblanc chaffoteaux frisquet dietrich viessmann ideal standart </span><span style=\"background-color: hsl(120, 100.00%, 84.71%); opacity: 0.85\" title=\"0.012\">produits</span><span style=\"opacity: 0.80\"> plomberie sanitaire robinetterie chaudieres cumulus chauffe eau thermodynamique pgn rge qualibat eco artisan depannage plomberie plombiers depannage chauffage specialiste plomberie chauffage depannage plus 25 </span><span style=\"background-color: hsl(120, 100.00%, 93.41%); opacity: 0.82\" title=\"0.004\">an</span><span style=\"opacity: 0.80\"> experience plomberie chauffage specialiste remplacement chaudieres a gaz toutes marque daniel puig </span><span style=\"background-color: hsl(0, 100.00%, 60.00%); opacity: 1.00\" title=\"-0.049\">dispose</span><span style=\"opacity: 0.80\"> del agrement </span><span style=\"background-color: hsl(0, 100.00%, 87.36%); opacity: 0.84\" title=\"-0.009\">professionnel</span><span style=\"opacity: 0.80\"> </span><span style=\"background-color: hsl(0, 100.00%, 87.36%); opacity: 0.84\" title=\"-0.009\">gaz</span><span style=\"opacity: 0.80\"> naturel realise pose </span><span style=\"background-color: hsl(120, 100.00%, 93.98%); opacity: 0.81\" title=\"0.003\">installation</span><span style=\"opacity: 0.80\"> reparation entretien mise service appareils chauffage climatisation professionnel plomberie pouvez faire appel a degat eaux mise normes canalisation desengorgement raccordement </span><span style=\"background-color: hsl(120, 100.00%, 89.80%); opacity: 0.83\" title=\"0.007\">reseau</span><span style=\"opacity: 0.80\"> eau maintenance renovation </span><span style=\"background-color: hsl(120, 100.00%, 93.98%); opacity: 0.81\" title=\"0.003\">installation</span><span style=\"opacity: 0.80\"> economy energie</span>\n",
       "    </p>\n",
       "\n",
       "\n",
       "    \n",
       "\n",
       "    \n",
       "\n",
       "    \n",
       "\n",
       "    \n",
       "\n",
       "\n",
       "    \n",
       "\n",
       "    \n",
       "\n",
       "    \n",
       "\n",
       "    \n",
       "\n",
       "    \n",
       "\n",
       "    \n",
       "\n",
       "\n",
       "    \n",
       "\n",
       "    \n",
       "\n",
       "    \n",
       "\n",
       "    \n",
       "\n",
       "    \n",
       "\n",
       "    \n",
       "\n",
       "\n",
       "\n"
      ],
      "text/plain": [
       "<IPython.core.display.HTML object>"
      ]
     },
     "metadata": {},
     "output_type": "display_data"
    },
    {
     "name": "stdout",
     "output_type": "stream",
     "text": [
      "Text 2:\n"
     ]
    },
    {
     "data": {
      "text/html": [
       "\n",
       "    <style>\n",
       "    table.eli5-weights tr:hover {\n",
       "        filter: brightness(85%);\n",
       "    }\n",
       "</style>\n",
       "\n",
       "\n",
       "\n",
       "    \n",
       "\n",
       "    \n",
       "\n",
       "    \n",
       "\n",
       "    \n",
       "\n",
       "    \n",
       "\n",
       "    \n",
       "\n",
       "\n",
       "    \n",
       "\n",
       "    \n",
       "\n",
       "    \n",
       "\n",
       "    \n",
       "        \n",
       "\n",
       "    \n",
       "\n",
       "        \n",
       "\n",
       "        \n",
       "    \n",
       "        \n",
       "        \n",
       "    \n",
       "        <p style=\"margin-bottom: 0.5em; margin-top: 0em\">\n",
       "            <b>\n",
       "    \n",
       "        y=False\n",
       "    \n",
       "</b>\n",
       "\n",
       "    \n",
       "    (probability <b>0.991</b>)\n",
       "\n",
       "top features\n",
       "        </p>\n",
       "    \n",
       "    <table class=\"eli5-weights\"\n",
       "           style=\"border-collapse: collapse; border: none; margin-top: 0em; table-layout: auto; margin-bottom: 2em;\">\n",
       "        <thead>\n",
       "        <tr style=\"border: none;\">\n",
       "            \n",
       "                <th style=\"padding: 0 1em 0 0.5em; text-align: right; border: none;\" title=\"Feature contribution already accounts for the feature value (for linear models, contribution = weight * feature value), and the sum of feature contributions is equal to the score or, for some classifiers, to the probability. Feature values are shown if &quot;show_feature_values&quot; is True.\">\n",
       "                    Contribution<sup>?</sup>\n",
       "                </th>\n",
       "            \n",
       "            <th style=\"padding: 0 0.5em 0 0.5em; text-align: left; border: none;\">Feature</th>\n",
       "            \n",
       "        </tr>\n",
       "        </thead>\n",
       "        <tbody>\n",
       "        \n",
       "            <tr style=\"background-color: hsl(120, 100.00%, 80.00%); border: none;\">\n",
       "    <td style=\"padding: 0 1em 0 0.5em; text-align: right; border: none;\">\n",
       "        +0.855\n",
       "    </td>\n",
       "    <td style=\"padding: 0 0.5em 0 0.5em; text-align: left; border: none;\">\n",
       "        &lt;BIAS&gt;\n",
       "    </td>\n",
       "    \n",
       "</tr>\n",
       "        \n",
       "            <tr style=\"background-color: hsl(120, 100.00%, 96.48%); border: none;\">\n",
       "    <td style=\"padding: 0 1em 0 0.5em; text-align: right; border: none;\">\n",
       "        +0.071\n",
       "    </td>\n",
       "    <td style=\"padding: 0 0.5em 0 0.5em; text-align: left; border: none;\">\n",
       "        Highlighted in text (sum)\n",
       "    </td>\n",
       "    \n",
       "</tr>\n",
       "        \n",
       "            <tr style=\"background-color: hsl(120, 100.00%, 99.24%); border: none;\">\n",
       "    <td style=\"padding: 0 1em 0 0.5em; text-align: right; border: none;\">\n",
       "        +0.008\n",
       "    </td>\n",
       "    <td style=\"padding: 0 0.5em 0 0.5em; text-align: left; border: none;\">\n",
       "        couverture\n",
       "    </td>\n",
       "    \n",
       "</tr>\n",
       "        \n",
       "            <tr style=\"background-color: hsl(120, 100.00%, 99.41%); border: none;\">\n",
       "    <td style=\"padding: 0 1em 0 0.5em; text-align: right; border: none;\">\n",
       "        +0.006\n",
       "    </td>\n",
       "    <td style=\"padding: 0 0.5em 0 0.5em; text-align: left; border: none;\">\n",
       "        maconnerie\n",
       "    </td>\n",
       "    \n",
       "</tr>\n",
       "        \n",
       "            <tr style=\"background-color: hsl(120, 100.00%, 99.45%); border: none;\">\n",
       "    <td style=\"padding: 0 1em 0 0.5em; text-align: right; border: none;\">\n",
       "        +0.005\n",
       "    </td>\n",
       "    <td style=\"padding: 0 0.5em 0 0.5em; text-align: left; border: none;\">\n",
       "        entreprises couverture\n",
       "    </td>\n",
       "    \n",
       "</tr>\n",
       "        \n",
       "            <tr style=\"background-color: hsl(120, 100.00%, 99.55%); border: none;\">\n",
       "    <td style=\"padding: 0 1em 0 0.5em; text-align: right; border: none;\">\n",
       "        +0.004\n",
       "    </td>\n",
       "    <td style=\"padding: 0 0.5em 0 0.5em; text-align: left; border: none;\">\n",
       "        charpentes\n",
       "    </td>\n",
       "    \n",
       "</tr>\n",
       "        \n",
       "        \n",
       "            <tr style=\"background-color: hsl(120, 100.00%, 99.55%); border: none;\">\n",
       "                <td colspan=\"2\" style=\"padding: 0 0.5em 0 0.5em; text-align: center; border: none; white-space: nowrap;\">\n",
       "                    <i>&hellip; 1005 more positive &hellip;</i>\n",
       "                </td>\n",
       "            </tr>\n",
       "        \n",
       "\n",
       "        \n",
       "            <tr style=\"background-color: hsl(0, 100.00%, 80.00%); border: none;\">\n",
       "                <td colspan=\"2\" style=\"padding: 0 0.5em 0 0.5em; text-align: center; border: none; white-space: nowrap;\">\n",
       "                    <i>&hellip; 501 more negative &hellip;</i>\n",
       "                </td>\n",
       "            </tr>\n",
       "        \n",
       "        \n",
       "\n",
       "        </tbody>\n",
       "    </table>\n",
       "\n",
       "    \n",
       "\n",
       "\n",
       "\n",
       "    <p style=\"margin-bottom: 2.5em; margin-top:-0.5em;\">\n",
       "        <span style=\"background-color: hsl(120, 100.00%, 81.87%); opacity: 0.86\" title=\"0.015\">entreprises</span><span style=\"opacity: 0.80\"> </span><span style=\"background-color: hsl(120, 100.00%, 60.00%); opacity: 1.00\" title=\"0.046\">electricite</span><span style=\"opacity: 0.80\"> </span><span style=\"background-color: hsl(120, 100.00%, 67.20%); opacity: 0.95\" title=\"0.035\">generale</span>\n",
       "    </p>\n",
       "\n",
       "\n",
       "    \n",
       "\n",
       "    \n",
       "\n",
       "    \n",
       "\n",
       "    \n",
       "\n",
       "\n",
       "    \n",
       "\n",
       "    \n",
       "\n",
       "    \n",
       "\n",
       "    \n",
       "\n",
       "    \n",
       "\n",
       "    \n",
       "\n",
       "\n",
       "    \n",
       "\n",
       "    \n",
       "\n",
       "    \n",
       "\n",
       "    \n",
       "\n",
       "    \n",
       "\n",
       "    \n",
       "\n",
       "\n",
       "\n"
      ],
      "text/plain": [
       "<IPython.core.display.HTML object>"
      ]
     },
     "metadata": {},
     "output_type": "display_data"
    },
    {
     "name": "stdout",
     "output_type": "stream",
     "text": [
      "Text 3:\n"
     ]
    },
    {
     "data": {
      "text/html": [
       "\n",
       "    <style>\n",
       "    table.eli5-weights tr:hover {\n",
       "        filter: brightness(85%);\n",
       "    }\n",
       "</style>\n",
       "\n",
       "\n",
       "\n",
       "    \n",
       "\n",
       "    \n",
       "\n",
       "    \n",
       "\n",
       "    \n",
       "\n",
       "    \n",
       "\n",
       "    \n",
       "\n",
       "\n",
       "    \n",
       "\n",
       "    \n",
       "\n",
       "    \n",
       "\n",
       "    \n",
       "        \n",
       "\n",
       "    \n",
       "\n",
       "        \n",
       "\n",
       "        \n",
       "    \n",
       "        \n",
       "        \n",
       "    \n",
       "        <p style=\"margin-bottom: 0.5em; margin-top: 0em\">\n",
       "            <b>\n",
       "    \n",
       "        y=False\n",
       "    \n",
       "</b>\n",
       "\n",
       "    \n",
       "    (probability <b>1.000</b>)\n",
       "\n",
       "top features\n",
       "        </p>\n",
       "    \n",
       "    <table class=\"eli5-weights\"\n",
       "           style=\"border-collapse: collapse; border: none; margin-top: 0em; table-layout: auto; margin-bottom: 2em;\">\n",
       "        <thead>\n",
       "        <tr style=\"border: none;\">\n",
       "            \n",
       "                <th style=\"padding: 0 1em 0 0.5em; text-align: right; border: none;\" title=\"Feature contribution already accounts for the feature value (for linear models, contribution = weight * feature value), and the sum of feature contributions is equal to the score or, for some classifiers, to the probability. Feature values are shown if &quot;show_feature_values&quot; is True.\">\n",
       "                    Contribution<sup>?</sup>\n",
       "                </th>\n",
       "            \n",
       "            <th style=\"padding: 0 0.5em 0 0.5em; text-align: left; border: none;\">Feature</th>\n",
       "            \n",
       "        </tr>\n",
       "        </thead>\n",
       "        <tbody>\n",
       "        \n",
       "            <tr style=\"background-color: hsl(120, 100.00%, 80.00%); border: none;\">\n",
       "    <td style=\"padding: 0 1em 0 0.5em; text-align: right; border: none;\">\n",
       "        +0.855\n",
       "    </td>\n",
       "    <td style=\"padding: 0 0.5em 0 0.5em; text-align: left; border: none;\">\n",
       "        &lt;BIAS&gt;\n",
       "    </td>\n",
       "    \n",
       "</tr>\n",
       "        \n",
       "            <tr style=\"background-color: hsl(120, 100.00%, 98.12%); border: none;\">\n",
       "    <td style=\"padding: 0 1em 0 0.5em; text-align: right; border: none;\">\n",
       "        +0.029\n",
       "    </td>\n",
       "    <td style=\"padding: 0 0.5em 0 0.5em; text-align: left; border: none;\">\n",
       "        Highlighted in text (sum)\n",
       "    </td>\n",
       "    \n",
       "</tr>\n",
       "        \n",
       "            <tr style=\"background-color: hsl(120, 100.00%, 99.36%); border: none;\">\n",
       "    <td style=\"padding: 0 1em 0 0.5em; text-align: right; border: none;\">\n",
       "        +0.006\n",
       "    </td>\n",
       "    <td style=\"padding: 0 0.5em 0 0.5em; text-align: left; border: none;\">\n",
       "        entreprises couverture\n",
       "    </td>\n",
       "    \n",
       "</tr>\n",
       "        \n",
       "            <tr style=\"background-color: hsl(120, 100.00%, 99.38%); border: none;\">\n",
       "    <td style=\"padding: 0 1em 0 0.5em; text-align: right; border: none;\">\n",
       "        +0.006\n",
       "    </td>\n",
       "    <td style=\"padding: 0 0.5em 0 0.5em; text-align: left; border: none;\">\n",
       "        maconnerie\n",
       "    </td>\n",
       "    \n",
       "</tr>\n",
       "        \n",
       "            <tr style=\"background-color: hsl(120, 100.00%, 99.44%); border: none;\">\n",
       "    <td style=\"padding: 0 1em 0 0.5em; text-align: right; border: none;\">\n",
       "        +0.005\n",
       "    </td>\n",
       "    <td style=\"padding: 0 0.5em 0 0.5em; text-align: left; border: none;\">\n",
       "        couverture\n",
       "    </td>\n",
       "    \n",
       "</tr>\n",
       "        \n",
       "        \n",
       "            <tr style=\"background-color: hsl(120, 100.00%, 99.44%); border: none;\">\n",
       "                <td colspan=\"2\" style=\"padding: 0 0.5em 0 0.5em; text-align: center; border: none; white-space: nowrap;\">\n",
       "                    <i>&hellip; 1043 more positive &hellip;</i>\n",
       "                </td>\n",
       "            </tr>\n",
       "        \n",
       "\n",
       "        \n",
       "            <tr style=\"background-color: hsl(0, 100.00%, 80.00%); border: none;\">\n",
       "                <td colspan=\"2\" style=\"padding: 0 0.5em 0 0.5em; text-align: center; border: none; white-space: nowrap;\">\n",
       "                    <i>&hellip; 164 more negative &hellip;</i>\n",
       "                </td>\n",
       "            </tr>\n",
       "        \n",
       "        \n",
       "\n",
       "        </tbody>\n",
       "    </table>\n",
       "\n",
       "    \n",
       "\n",
       "\n",
       "\n",
       "    <p style=\"margin-bottom: 2.5em; margin-top:-0.5em;\">\n",
       "        <span style=\"background-color: hsl(120, 100.00%, 89.63%); opacity: 0.83\" title=\"0.001\">porte</span><span style=\"opacity: 0.80\"> portails </span><span style=\"background-color: hsl(0, 100.00%, 90.21%); opacity: 0.83\" title=\"-0.001\">travaux</span><span style=\"opacity: 0.80\"> serrurerie metallerie fabrication escaliers metal fabrication escaliers bois ferronnerie art installation </span><span style=\"background-color: hsl(120, 100.00%, 89.63%); opacity: 0.83\" title=\"0.001\">porte</span><span style=\"opacity: 0.80\"> installation portails installation volets roulants fabrication hangar metalliques installation cloture </span><span style=\"background-color: hsl(0, 100.00%, 90.21%); opacity: 0.83\" title=\"-0.001\">travaux</span><span style=\"opacity: 0.80\"> menuiserie bois </span><span style=\"background-color: hsl(0, 100.00%, 90.21%); opacity: 0.83\" title=\"-0.001\">travaux</span><span style=\"opacity: 0.80\"> menuiserie pvc </span><span style=\"background-color: hsl(0, 100.00%, 90.21%); opacity: 0.83\" title=\"-0.001\">travaux</span><span style=\"opacity: 0.80\"> menuiserie aluminium fabrication meubles fer forge </span><span style=\"background-color: hsl(120, 100.00%, 60.00%); opacity: 1.00\" title=\"0.009\">decoration</span><span style=\"opacity: 0.80\"> fer forge </span><span style=\"background-color: hsl(120, 100.00%, 89.63%); opacity: 0.83\" title=\"0.001\">porte</span><span style=\"opacity: 0.80\"> portails serrurerie metallerie </span><span style=\"background-color: hsl(120, 100.00%, 76.43%); opacity: 0.89\" title=\"0.004\">fabrication</span><span style=\"opacity: 0.80\"> </span><span style=\"background-color: hsl(120, 100.00%, 76.43%); opacity: 0.89\" title=\"0.004\">installation</span><span style=\"opacity: 0.80\"> escaliers </span><span style=\"background-color: hsl(120, 100.00%, 62.70%); opacity: 0.98\" title=\"0.008\">entreprises</span><span style=\"opacity: 0.80\"> menuiserie cloture barrieres ferronnerie art intervenons projets metallerie serrurerie menuiserie installons escaliers </span><span style=\"background-color: hsl(120, 100.00%, 89.63%); opacity: 0.83\" title=\"0.001\">porte</span><span style=\"opacity: 0.80\"> portails volets roulants meubles fer forge fabriquons hangar metalliques posons cloture garantissons travail qualite fait </span><span style=\"background-color: hsl(120, 100.00%, 68.76%); opacity: 0.94\" title=\"0.007\">le</span><span style=\"opacity: 0.80\"> regles art venez visiter site internet</span>\n",
       "    </p>\n",
       "\n",
       "\n",
       "    \n",
       "\n",
       "    \n",
       "\n",
       "    \n",
       "\n",
       "    \n",
       "\n",
       "\n",
       "    \n",
       "\n",
       "    \n",
       "\n",
       "    \n",
       "\n",
       "    \n",
       "\n",
       "    \n",
       "\n",
       "    \n",
       "\n",
       "\n",
       "    \n",
       "\n",
       "    \n",
       "\n",
       "    \n",
       "\n",
       "    \n",
       "\n",
       "    \n",
       "\n",
       "    \n",
       "\n",
       "\n",
       "\n"
      ],
      "text/plain": [
       "<IPython.core.display.HTML object>"
      ]
     },
     "metadata": {},
     "output_type": "display_data"
    },
    {
     "name": "stdout",
     "output_type": "stream",
     "text": [
      "Text 4:\n"
     ]
    },
    {
     "data": {
      "text/html": [
       "\n",
       "    <style>\n",
       "    table.eli5-weights tr:hover {\n",
       "        filter: brightness(85%);\n",
       "    }\n",
       "</style>\n",
       "\n",
       "\n",
       "\n",
       "    \n",
       "\n",
       "    \n",
       "\n",
       "    \n",
       "\n",
       "    \n",
       "\n",
       "    \n",
       "\n",
       "    \n",
       "\n",
       "\n",
       "    \n",
       "\n",
       "    \n",
       "\n",
       "    \n",
       "\n",
       "    \n",
       "        \n",
       "\n",
       "    \n",
       "\n",
       "        \n",
       "\n",
       "        \n",
       "    \n",
       "        \n",
       "        \n",
       "    \n",
       "        <p style=\"margin-bottom: 0.5em; margin-top: 0em\">\n",
       "            <b>\n",
       "    \n",
       "        y=False\n",
       "    \n",
       "</b>\n",
       "\n",
       "    \n",
       "    (probability <b>1.000</b>)\n",
       "\n",
       "top features\n",
       "        </p>\n",
       "    \n",
       "    <table class=\"eli5-weights\"\n",
       "           style=\"border-collapse: collapse; border: none; margin-top: 0em; table-layout: auto; margin-bottom: 2em;\">\n",
       "        <thead>\n",
       "        <tr style=\"border: none;\">\n",
       "            \n",
       "                <th style=\"padding: 0 1em 0 0.5em; text-align: right; border: none;\" title=\"Feature contribution already accounts for the feature value (for linear models, contribution = weight * feature value), and the sum of feature contributions is equal to the score or, for some classifiers, to the probability. Feature values are shown if &quot;show_feature_values&quot; is True.\">\n",
       "                    Contribution<sup>?</sup>\n",
       "                </th>\n",
       "            \n",
       "            <th style=\"padding: 0 0.5em 0 0.5em; text-align: left; border: none;\">Feature</th>\n",
       "            \n",
       "        </tr>\n",
       "        </thead>\n",
       "        <tbody>\n",
       "        \n",
       "            <tr style=\"background-color: hsl(120, 100.00%, 80.00%); border: none;\">\n",
       "    <td style=\"padding: 0 1em 0 0.5em; text-align: right; border: none;\">\n",
       "        +0.855\n",
       "    </td>\n",
       "    <td style=\"padding: 0 0.5em 0 0.5em; text-align: left; border: none;\">\n",
       "        &lt;BIAS&gt;\n",
       "    </td>\n",
       "    \n",
       "</tr>\n",
       "        \n",
       "            <tr style=\"background-color: hsl(120, 100.00%, 96.04%); border: none;\">\n",
       "    <td style=\"padding: 0 1em 0 0.5em; text-align: right; border: none;\">\n",
       "        +0.085\n",
       "    </td>\n",
       "    <td style=\"padding: 0 0.5em 0 0.5em; text-align: left; border: none;\">\n",
       "        Highlighted in text (sum)\n",
       "    </td>\n",
       "    \n",
       "</tr>\n",
       "        \n",
       "            <tr style=\"background-color: hsl(120, 100.00%, 99.19%); border: none;\">\n",
       "    <td style=\"padding: 0 1em 0 0.5em; text-align: right; border: none;\">\n",
       "        +0.009\n",
       "    </td>\n",
       "    <td style=\"padding: 0 0.5em 0 0.5em; text-align: left; border: none;\">\n",
       "        entreprises couverture\n",
       "    </td>\n",
       "    \n",
       "</tr>\n",
       "        \n",
       "            <tr style=\"background-color: hsl(120, 100.00%, 99.34%); border: none;\">\n",
       "    <td style=\"padding: 0 1em 0 0.5em; text-align: right; border: none;\">\n",
       "        +0.007\n",
       "    </td>\n",
       "    <td style=\"padding: 0 0.5em 0 0.5em; text-align: left; border: none;\">\n",
       "        couverture\n",
       "    </td>\n",
       "    \n",
       "</tr>\n",
       "        \n",
       "            <tr style=\"background-color: hsl(120, 100.00%, 99.34%); border: none;\">\n",
       "    <td style=\"padding: 0 1em 0 0.5em; text-align: right; border: none;\">\n",
       "        +0.006\n",
       "    </td>\n",
       "    <td style=\"padding: 0 0.5em 0 0.5em; text-align: left; border: none;\">\n",
       "        entreprises\n",
       "    </td>\n",
       "    \n",
       "</tr>\n",
       "        \n",
       "        \n",
       "            <tr style=\"background-color: hsl(120, 100.00%, 99.34%); border: none;\">\n",
       "                <td colspan=\"2\" style=\"padding: 0 0.5em 0 0.5em; text-align: center; border: none; white-space: nowrap;\">\n",
       "                    <i>&hellip; 1063 more positive &hellip;</i>\n",
       "                </td>\n",
       "            </tr>\n",
       "        \n",
       "\n",
       "        \n",
       "            <tr style=\"background-color: hsl(0, 100.00%, 80.00%); border: none;\">\n",
       "                <td colspan=\"2\" style=\"padding: 0 0.5em 0 0.5em; text-align: center; border: none; white-space: nowrap;\">\n",
       "                    <i>&hellip; 680 more negative &hellip;</i>\n",
       "                </td>\n",
       "            </tr>\n",
       "        \n",
       "        \n",
       "\n",
       "        </tbody>\n",
       "    </table>\n",
       "\n",
       "    \n",
       "\n",
       "\n",
       "\n",
       "    <p style=\"margin-bottom: 2.5em; margin-top:-0.5em;\">\n",
       "        <span style=\"background-color: hsl(120, 100.00%, 70.48%); opacity: 0.93\" title=\"0.016\">vente</span><span style=\"opacity: 0.80\"> </span><span style=\"background-color: hsl(120, 100.00%, 72.31%); opacity: 0.92\" title=\"0.014\">installation</span><span style=\"opacity: 0.80\"> </span><span style=\"background-color: hsl(120, 100.00%, 73.31%); opacity: 0.91\" title=\"0.014\">chauffage</span><span style=\"opacity: 0.80\"> </span><span style=\"background-color: hsl(120, 100.00%, 60.00%); opacity: 1.00\" title=\"0.024\">vente</span><span style=\"opacity: 0.80\"> </span><span style=\"background-color: hsl(120, 100.00%, 72.31%); opacity: 0.92\" title=\"0.014\">installation</span><span style=\"opacity: 0.80\"> </span><span style=\"background-color: hsl(120, 100.00%, 68.33%); opacity: 0.94\" title=\"0.017\">chauffage</span><span style=\"opacity: 0.80\"> </span><span style=\"background-color: hsl(120, 100.00%, 75.13%); opacity: 0.90\" title=\"0.012\">plombiers</span>\n",
       "    </p>\n",
       "\n",
       "\n",
       "    \n",
       "\n",
       "    \n",
       "\n",
       "    \n",
       "\n",
       "    \n",
       "\n",
       "\n",
       "    \n",
       "\n",
       "    \n",
       "\n",
       "    \n",
       "\n",
       "    \n",
       "\n",
       "    \n",
       "\n",
       "    \n",
       "\n",
       "\n",
       "    \n",
       "\n",
       "    \n",
       "\n",
       "    \n",
       "\n",
       "    \n",
       "\n",
       "    \n",
       "\n",
       "    \n",
       "\n",
       "\n",
       "\n"
      ],
      "text/plain": [
       "<IPython.core.display.HTML object>"
      ]
     },
     "metadata": {},
     "output_type": "display_data"
    },
    {
     "name": "stdout",
     "output_type": "stream",
     "text": [
      "Text 5:\n"
     ]
    },
    {
     "data": {
      "text/html": [
       "\n",
       "    <style>\n",
       "    table.eli5-weights tr:hover {\n",
       "        filter: brightness(85%);\n",
       "    }\n",
       "</style>\n",
       "\n",
       "\n",
       "\n",
       "    \n",
       "\n",
       "    \n",
       "\n",
       "    \n",
       "\n",
       "    \n",
       "\n",
       "    \n",
       "\n",
       "    \n",
       "\n",
       "\n",
       "    \n",
       "\n",
       "    \n",
       "\n",
       "    \n",
       "\n",
       "    \n",
       "        \n",
       "\n",
       "    \n",
       "\n",
       "        \n",
       "\n",
       "        \n",
       "    \n",
       "        \n",
       "        \n",
       "    \n",
       "        <p style=\"margin-bottom: 0.5em; margin-top: 0em\">\n",
       "            <b>\n",
       "    \n",
       "        y=False\n",
       "    \n",
       "</b>\n",
       "\n",
       "    \n",
       "    (probability <b>1.000</b>)\n",
       "\n",
       "top features\n",
       "        </p>\n",
       "    \n",
       "    <table class=\"eli5-weights\"\n",
       "           style=\"border-collapse: collapse; border: none; margin-top: 0em; table-layout: auto; margin-bottom: 2em;\">\n",
       "        <thead>\n",
       "        <tr style=\"border: none;\">\n",
       "            \n",
       "                <th style=\"padding: 0 1em 0 0.5em; text-align: right; border: none;\" title=\"Feature contribution already accounts for the feature value (for linear models, contribution = weight * feature value), and the sum of feature contributions is equal to the score or, for some classifiers, to the probability. Feature values are shown if &quot;show_feature_values&quot; is True.\">\n",
       "                    Contribution<sup>?</sup>\n",
       "                </th>\n",
       "            \n",
       "            <th style=\"padding: 0 0.5em 0 0.5em; text-align: left; border: none;\">Feature</th>\n",
       "            \n",
       "        </tr>\n",
       "        </thead>\n",
       "        <tbody>\n",
       "        \n",
       "            <tr style=\"background-color: hsl(120, 100.00%, 80.00%); border: none;\">\n",
       "    <td style=\"padding: 0 1em 0 0.5em; text-align: right; border: none;\">\n",
       "        +0.855\n",
       "    </td>\n",
       "    <td style=\"padding: 0 0.5em 0 0.5em; text-align: left; border: none;\">\n",
       "        &lt;BIAS&gt;\n",
       "    </td>\n",
       "    \n",
       "</tr>\n",
       "        \n",
       "            <tr style=\"background-color: hsl(120, 100.00%, 96.49%); border: none;\">\n",
       "    <td style=\"padding: 0 1em 0 0.5em; text-align: right; border: none;\">\n",
       "        +0.071\n",
       "    </td>\n",
       "    <td style=\"padding: 0 0.5em 0 0.5em; text-align: left; border: none;\">\n",
       "        Highlighted in text (sum)\n",
       "    </td>\n",
       "    \n",
       "</tr>\n",
       "        \n",
       "            <tr style=\"background-color: hsl(120, 100.00%, 99.30%); border: none;\">\n",
       "    <td style=\"padding: 0 1em 0 0.5em; text-align: right; border: none;\">\n",
       "        +0.007\n",
       "    </td>\n",
       "    <td style=\"padding: 0 0.5em 0 0.5em; text-align: left; border: none;\">\n",
       "        chaleur entreprises\n",
       "    </td>\n",
       "    \n",
       "</tr>\n",
       "        \n",
       "            <tr style=\"background-color: hsl(120, 100.00%, 99.34%); border: none;\">\n",
       "    <td style=\"padding: 0 1em 0 0.5em; text-align: right; border: none;\">\n",
       "        +0.007\n",
       "    </td>\n",
       "    <td style=\"padding: 0 0.5em 0 0.5em; text-align: left; border: none;\">\n",
       "        couverture\n",
       "    </td>\n",
       "    \n",
       "</tr>\n",
       "        \n",
       "            <tr style=\"background-color: hsl(120, 100.00%, 99.35%); border: none;\">\n",
       "    <td style=\"padding: 0 1em 0 0.5em; text-align: right; border: none;\">\n",
       "        +0.006\n",
       "    </td>\n",
       "    <td style=\"padding: 0 0.5em 0 0.5em; text-align: left; border: none;\">\n",
       "        entreprises couverture\n",
       "    </td>\n",
       "    \n",
       "</tr>\n",
       "        \n",
       "        \n",
       "            <tr style=\"background-color: hsl(120, 100.00%, 99.35%); border: none;\">\n",
       "                <td colspan=\"2\" style=\"padding: 0 0.5em 0 0.5em; text-align: center; border: none; white-space: nowrap;\">\n",
       "                    <i>&hellip; 1013 more positive &hellip;</i>\n",
       "                </td>\n",
       "            </tr>\n",
       "        \n",
       "\n",
       "        \n",
       "            <tr style=\"background-color: hsl(0, 100.00%, 80.00%); border: none;\">\n",
       "                <td colspan=\"2\" style=\"padding: 0 0.5em 0 0.5em; text-align: center; border: none; white-space: nowrap;\">\n",
       "                    <i>&hellip; 409 more negative &hellip;</i>\n",
       "                </td>\n",
       "            </tr>\n",
       "        \n",
       "        \n",
       "\n",
       "        </tbody>\n",
       "    </table>\n",
       "\n",
       "    \n",
       "\n",
       "\n",
       "\n",
       "    <p style=\"margin-bottom: 2.5em; margin-top:-0.5em;\">\n",
       "        <span style=\"opacity: 0.80\">plombiers plombiers </span><span style=\"background-color: hsl(120, 100.00%, 69.64%); opacity: 0.93\" title=\"0.009\">depannage</span><span style=\"opacity: 0.80\"> </span><span style=\"background-color: hsl(120, 100.00%, 74.08%); opacity: 0.91\" title=\"0.007\">chauffage</span><span style=\"opacity: 0.80\"> ramonage </span><span style=\"background-color: hsl(120, 100.00%, 64.82%); opacity: 0.97\" title=\"0.011\">vente</span><span style=\"opacity: 0.80\"> </span><span style=\"background-color: hsl(120, 100.00%, 60.00%); opacity: 1.00\" title=\"0.013\">installation</span><span style=\"opacity: 0.80\"> </span><span style=\"background-color: hsl(120, 100.00%, 74.08%); opacity: 0.91\" title=\"0.007\">chauffage</span><span style=\"opacity: 0.80\"> </span><span style=\"background-color: hsl(120, 100.00%, 64.82%); opacity: 0.97\" title=\"0.011\">vente</span><span style=\"opacity: 0.80\"> </span><span style=\"background-color: hsl(120, 100.00%, 60.00%); opacity: 1.00\" title=\"0.013\">installation</span><span style=\"opacity: 0.80\"> </span><span style=\"background-color: hsl(120, 100.00%, 75.29%); opacity: 0.90\" title=\"0.006\">climatisation</span>\n",
       "    </p>\n",
       "\n",
       "\n",
       "    \n",
       "\n",
       "    \n",
       "\n",
       "    \n",
       "\n",
       "    \n",
       "\n",
       "\n",
       "    \n",
       "\n",
       "    \n",
       "\n",
       "    \n",
       "\n",
       "    \n",
       "\n",
       "    \n",
       "\n",
       "    \n",
       "\n",
       "\n",
       "    \n",
       "\n",
       "    \n",
       "\n",
       "    \n",
       "\n",
       "    \n",
       "\n",
       "    \n",
       "\n",
       "    \n",
       "\n",
       "\n",
       "\n"
      ],
      "text/plain": [
       "<IPython.core.display.HTML object>"
      ]
     },
     "metadata": {},
     "output_type": "display_data"
    }
   ],
   "source": [
    "for i in range(5):\n",
    "    print(f'Text {i + 1}:')\n",
    "    text = df.loc[df['class'] == False, 'cleaned_text'].values[np.random.randint(5000)]\n",
    "    #print(text)\n",
    "    display(eli5.show_prediction(rf, doc=text, vec=vectorizer, top=10))"
   ]
  },
  {
   "cell_type": "code",
   "execution_count": 19,
   "metadata": {},
   "outputs": [
    {
     "data": {
      "text/plain": [
       "<matplotlib.axes._subplots.AxesSubplot at 0x2304e5c8668>"
      ]
     },
     "execution_count": 19,
     "metadata": {},
     "output_type": "execute_result"
    },
    {
     "data": {
      "image/png": "[encoded data removed]",
      "text/plain": [
       "<Figure size 864x432 with 1 Axes>"
      ]
     },
     "metadata": {
      "needs_background": "light"
     },
     "output_type": "display_data"
    }
   ],
   "source": [
    "pd.Series(rf.feature_importances_, index = vectorizer.get_feature_names()).nlargest(10).sort_values().plot.barh(figsize = (12, 6), title = 'Plot feature importances')"
   ]
  },
  {
   "cell_type": "code",
   "execution_count": 93,
   "metadata": {},
   "outputs": [
    {
     "data": {
      "image/png": "[encoded data removed]",
      "text/plain": [
       "<Figure size 576x576 with 2 Axes>"
      ]
     },
     "metadata": {
      "needs_background": "light"
     },
     "output_type": "display_data"
    }
   ],
   "source": [
    "# Plot highest features' correlation with `class`\n",
    "df_rf = pd.DataFrame(X_train.toarray(), columns = vectorizer.get_feature_names())\n",
    "corr_class = pd.Series()\n",
    "for col in df_rf.columns:\n",
    "    corr_class = corr_class.append(pd.Series(df['class'].corr(df_rf[col]), index = [col]))\n",
    "top10 = corr_class.abs().nlargest(10).index.tolist()\n",
    "\n",
    "# Perform matrix correlation\n",
    "corrmat = pd.concat([df['class'], df_rf[top10]], axis = 1).corr()\n",
    "f, ax = plt.subplots(figsize=(8, 8))\n",
    "sns.heatmap(corrmat, square = True, annot=True, cmap=\"YlGnBu\");"
   ]
  },
  {
   "cell_type": "markdown",
   "metadata": {},
   "source": [
    "**Comment:** \n",
    "\n",
    "By printing 5 random text, the word `couverture` always appears on the list of word having highest contribution to classes. The above plot of importance features and matrix correlation also confirm that. \n",
    "\n",
    "We try to build a simple model:\n",
    "- si le mot “couverture” est présent, alors la classe est positive\n",
    "- si le mot “couverture” est absent, alors la classe est négative."
   ]
  },
  {
   "cell_type": "code",
   "execution_count": 25,
   "metadata": {},
   "outputs": [
    {
     "name": "stdout",
     "output_type": "stream",
     "text": [
      "Confusion matrix:\n",
      "[[5661   44]\n",
      " [ 561  397]]\n",
      "\n",
      "Accuracy: 90.92%\n"
     ]
    }
   ],
   "source": [
    "conf = confusion_matrix(df['class'], df['cleaned_text'].str.contains('couverture'))\n",
    "print('Confusion matrix:')\n",
    "print(conf)\n",
    "print(f'\\nAccuracy: {np.sum(np.diag(conf))*100/np.sum(conf):.2f}%')"
   ]
  },
  {
   "cell_type": "markdown",
   "metadata": {},
   "source": [
    "**Comment:** \n",
    "\n",
    "This results is much impressive with the accuracy is over 90%, however, it's also noted that this is an imbalanced classes problem while all classes are assigned as lable `False`, we can achieve 85% accuracy. In whatever way, `couverture` is confirmed as one of key word in this problem."
   ]
  },
  {
   "cell_type": "markdown",
   "metadata": {},
   "source": [
    "## 2. Objective of the study\n",
    "\n",
    "- **Problem**:\n",
    "The objective of this study is to predict the target variable `class` with respect to `description` texts.\n",
    "\n",
    "- **Evaluation metrics**:\n",
    "ROC-AUC, F1-score and Accuracy metrics between the predicted value and the true value are employed in this study.\n",
    "\n",
    "- **Validation method**:\n",
    "The idea of validation method is to split this database into training and test datasets while test sets account for 20% of database. In the training set, 5-fold cross validation is used to tune hyperparameters and evaluate the models' results. And finally, the target variable is predicted on the test sets and then evaluate the results.\n",
    "\n",
    "- **Models chosen**:\n",
    "In this study, 2 groups of model: Neural Network (logistic regression with regularization, deep architecture with sequence model LSTM) and Tree-based models (bagging/boosting ensemble) are employed."
   ]
  },
  {
   "cell_type": "markdown",
   "metadata": {},
   "source": [
    "## 3. Features engineering"
   ]
  },
  {
   "cell_type": "markdown",
   "metadata": {},
   "source": [
    "### 3.1. TF-IDF and SVD features"
   ]
  },
  {
   "cell_type": "code",
   "execution_count": 26,
   "metadata": {
    "colab": {},
    "colab_type": "code",
    "id": "82guzxzqttZQ"
   },
   "outputs": [],
   "source": [
    "# Feature extraction using TfidfVectorizer to find (at least) four letter tokens, remove tokens that don't appear in at least 5 documents\n",
    "tfidf = TfidfVectorizer(min_df = 5, ngram_range = (1, 4), token_pattern='(?u)\\\\b\\\\w\\\\w\\\\w+\\\\b').fit(df['cleaned_text'])"
   ]
  },
  {
   "cell_type": "code",
   "execution_count": 27,
   "metadata": {},
   "outputs": [
    {
     "name": "stdout",
     "output_type": "stream",
     "text": [
      "There are 10026 (group) words in the vocabulary\n"
     ]
    }
   ],
   "source": [
    "print(f'There are {len(tfidf.get_feature_names())} (group) words in the vocabulary')"
   ]
  },
  {
   "cell_type": "code",
   "execution_count": 28,
   "metadata": {},
   "outputs": [
    {
     "name": "stdout",
     "output_type": "stream",
     "text": [
      "generale travaux electricite\n",
      "installation spa sauna\n",
      "terrassement entreprises demolition\n",
      "parquet escalier\n",
      "monument funeraire\n"
     ]
    }
   ],
   "source": [
    "# Displaying some words in the vocab\n",
    "for i in range(5):\n",
    "    print(tfidf.get_feature_names()[np.random.randint(10000)])"
   ]
  },
  {
   "cell_type": "code",
   "execution_count": 29,
   "metadata": {
    "colab": {},
    "colab_type": "code",
    "id": "64lHUEr7s-v9"
   },
   "outputs": [],
   "source": [
    "# Transforming from text to array tfidf features\n",
    "X_tfidf = tfidf.transform(df['cleaned_text']).toarray()"
   ]
  },
  {
   "cell_type": "code",
   "execution_count": 30,
   "metadata": {},
   "outputs": [
    {
     "name": "stdout",
     "output_type": "stream",
     "text": [
      "Shape of X_tfidf = (6663, 10026)\n"
     ]
    }
   ],
   "source": [
    "print(f'Shape of X_tfidf = {X_tfidf.shape}')"
   ]
  },
  {
   "cell_type": "markdown",
   "metadata": {},
   "source": [
    "As the dimension after extractng `tfidf` features is much large (over 10000) so, reduction dimention by PCA with n_components = 300 is taken place."
   ]
  },
  {
   "cell_type": "code",
   "execution_count": 31,
   "metadata": {
    "colab": {},
    "colab_type": "code",
    "id": "m9rTpOmns-yf"
   },
   "outputs": [],
   "source": [
    "svd = TruncatedSVD(n_components = 300, random_state = 167).fit(X_tfidf)"
   ]
  },
  {
   "cell_type": "code",
   "execution_count": 32,
   "metadata": {},
   "outputs": [
    {
     "name": "stdout",
     "output_type": "stream",
     "text": [
      "Sum of proportion information remaining: 76.54%\n"
     ]
    }
   ],
   "source": [
    "print(f'Sum of proportion information remaining: {np.sum(svd.explained_variance_ratio_)*100:.2f}%')"
   ]
  },
  {
   "cell_type": "markdown",
   "metadata": {},
   "source": [
    "Proportion of information remaining is higher than 75%, it's quite good enough comparing with the number of chosen components!!!"
   ]
  },
  {
   "cell_type": "code",
   "execution_count": 33,
   "metadata": {
    "colab": {},
    "colab_type": "code",
    "id": "gK-gK1q2txqm"
   },
   "outputs": [],
   "source": [
    "# Adding them to our database\n",
    "df = pd.concat([df, pd.DataFrame(svd.transform(X_tfidf), columns = [f'SVD_{i + 1}' for i in range(300)])], axis = 1)"
   ]
  },
  {
   "cell_type": "markdown",
   "metadata": {},
   "source": [
    "### 3.2. Statistical Features\n",
    "\n",
    "In this section, I consider several features of description such as: number of characters, number of words, number of different words, number of digits, number of non-words, average characters per word."
   ]
  },
  {
   "cell_type": "code",
   "execution_count": 34,
   "metadata": {
    "colab": {},
    "colab_type": "code",
    "id": "bxrd4XuUtxs-"
   },
   "outputs": [],
   "source": [
    "df['nb_characters'] = df['cleaned_text'].str.len()\n",
    "df['nb_words'] = df['cleaned_text'].str.split().str.len()\n",
    "df['nb_diff_words'] = df['cleaned_text'].apply(lambda x: len(set(x.split())))\n",
    "df['nb_digits'] = df['cleaned_text'].str.count(r'\\d')\n",
    "df['nb_non_words'] = df['cleaned_text'].str.count(r'\\W')\n",
    "df['avg_characters_per_word'] = (df['nb_characters'] - df['nb_non_words'])/df['nb_words']"
   ]
  },
  {
   "cell_type": "code",
   "execution_count": 35,
   "metadata": {},
   "outputs": [],
   "source": [
    "def plot_dist(col):\n",
    "    fig, ax = plt.subplots(1, 2, figsize = (14, 6), sharey = True)\n",
    "    sns.boxplot(x = 'class', y = col, data = df, ax = ax[0])\n",
    "    sns.violinplot(x = 'class', y = col, data = df, ax = ax[1])\n",
    "    plt.suptitle(f'Distribution of {col} w.r.t class', fontsize = 15)\n",
    "    return plt.show()"
   ]
  },
  {
   "cell_type": "code",
   "execution_count": 37,
   "metadata": {
    "scrolled": false
   },
   "outputs": [
    {
     "data": {
      "image/png": "[encoded data removed]",
      "text/plain": [
       "<Figure size 1008x432 with 2 Axes>"
      ]
     },
     "metadata": {
      "needs_background": "light"
     },
     "output_type": "display_data"
    },
    {
     "data": {
      "image/png": "[encoded data removed]",
      "text/plain": [
       "<Figure size 1008x432 with 2 Axes>"
      ]
     },
     "metadata": {
      "needs_background": "light"
     },
     "output_type": "display_data"
    },
    {
     "data": {
      "image/png": "[encoded data removed]",
      "text/plain": [
       "<Figure size 1008x432 with 2 Axes>"
      ]
     },
     "metadata": {
      "needs_background": "light"
     },
     "output_type": "display_data"
    },
    {
     "data": {
      "image/png": "[encoded data removed]",
      "text/plain": [
       "<Figure size 1008x432 with 2 Axes>"
      ]
     },
     "metadata": {
      "needs_background": "light"
     },
     "output_type": "display_data"
    },
    {
     "data": {
      "image/png": "[encoded data removed]",
      "text/plain": [
       "<Figure size 1008x432 with 2 Axes>"
      ]
     },
     "metadata": {
      "needs_background": "light"
     },
     "output_type": "display_data"
    },
    {
     "data": {
      "image/png": "[encoded data removed]",
      "text/plain": [
       "<Figure size 1008x432 with 2 Axes>"
      ]
     },
     "metadata": {
      "needs_background": "light"
     },
     "output_type": "display_data"
    }
   ],
   "source": [
    "# Plot distribution of these features\n",
    "for col in df.columns[-6:]:\n",
    "    plot_dist(col)"
   ]
  },
  {
   "cell_type": "markdown",
   "metadata": {},
   "source": [
    "**Comment:** \n",
    "\n",
    "The distributions of these features in each class seem to be similar in mean/median/mode but their variances in class `True` is higher than it in class `False`. This can be explained as small database in class `True`, so this comparison may be not exact."
   ]
  },
  {
   "cell_type": "code",
   "execution_count": 39,
   "metadata": {
    "colab": {},
    "colab_type": "code",
    "id": "oxzyoCUWtxvi"
   },
   "outputs": [],
   "source": [
    "# Split data into training and test sets\n",
    "train, test = train_test_split(df, test_size = 0.2, random_state = 167)"
   ]
  },
  {
   "cell_type": "code",
   "execution_count": 40,
   "metadata": {
    "colab": {},
    "colab_type": "code",
    "id": "ToxT-o0KtxyI"
   },
   "outputs": [],
   "source": [
    "X_train = train.iloc[:, 3:]\n",
    "X_test = test.iloc[:, 3:]\n",
    "Y_train = train['class']\n",
    "Y_test = test['class']\n",
    "text_train = train['cleaned_text']\n",
    "text_test = test['cleaned_text']"
   ]
  },
  {
   "cell_type": "markdown",
   "metadata": {},
   "source": [
    "## 4. Model selection"
   ]
  },
  {
   "cell_type": "markdown",
   "metadata": {},
   "source": [
    "### 4.1. Logistic Regression"
   ]
  },
  {
   "cell_type": "code",
   "execution_count": 19,
   "metadata": {
    "colab": {
     "base_uri": "https://localhost:8080/",
     "height": 173
    },
    "colab_type": "code",
    "executionInfo": {
     "elapsed": 149838,
     "status": "ok",
     "timestamp": 1552286341823,
     "user": {
      "displayName": "Nam Hoang",
      "photoUrl": "",
      "userId": "03692964369482339552"
     },
     "user_tz": -60
    },
    "id": "sDXH1AMBtx0-",
    "outputId": "3849ba8c-ba07-4ae8-881c-c3605198ac5e"
   },
   "outputs": [
    {
     "data": {
      "text/plain": [
       "GridSearchCV(cv=5, error_score='raise-deprecating',\n",
       "       estimator=LogisticRegression(C=1.0, class_weight=None, dual=False, fit_intercept=True,\n",
       "          intercept_scaling=1, max_iter=10000, multi_class='warn',\n",
       "          n_jobs=None, penalty='l2', random_state=None, solver='lbfgs',\n",
       "          tol=0.0001, verbose=0, warm_start=False),\n",
       "       fit_params=None, iid='warn', n_jobs=None,\n",
       "       param_grid={'C': [0.01, 0.03, 0.1, 0.3, 1, 3, 10, 30, 100]},\n",
       "       pre_dispatch='2*n_jobs', refit=True, return_train_score='warn',\n",
       "       scoring='roc_auc', verbose=0)"
      ]
     },
     "execution_count": 19,
     "metadata": {
      "tags": []
     },
     "output_type": "execute_result"
    }
   ],
   "source": [
    "# Tuning hyper-parameters by GridSearchCV\n",
    "params = {'C': [0.01, 0.03, 0.1, 0.3, 1, 3, 10, 30, 100]}\n",
    "logit = GridSearchCV(LogisticRegression(solver = 'lbfgs', max_iter = 10000), param_grid = params, cv = 5, scoring = 'roc_auc')\n",
    "logit.fit(X_train, Y_train)"
   ]
  },
  {
   "cell_type": "code",
   "execution_count": 20,
   "metadata": {
    "colab": {
     "base_uri": "https://localhost:8080/",
     "height": 35
    },
    "colab_type": "code",
    "executionInfo": {
     "elapsed": 686,
     "status": "ok",
     "timestamp": 1552286380608,
     "user": {
      "displayName": "Nam Hoang",
      "photoUrl": "",
      "userId": "03692964369482339552"
     },
     "user_tz": -60
    },
    "id": "BGQVJGImtx5N",
    "outputId": "3b205477-331c-42e0-9044-f17751845ee5"
   },
   "outputs": [
    {
     "data": {
      "text/plain": [
       "{'C': 3}"
      ]
     },
     "execution_count": 20,
     "metadata": {
      "tags": []
     },
     "output_type": "execute_result"
    }
   ],
   "source": [
    "logit.best_params_"
   ]
  },
  {
   "cell_type": "code",
   "execution_count": 21,
   "metadata": {
    "colab": {
     "base_uri": "https://localhost:8080/",
     "height": 35
    },
    "colab_type": "code",
    "executionInfo": {
     "elapsed": 1021,
     "status": "ok",
     "timestamp": 1552286383852,
     "user": {
      "displayName": "Nam Hoang",
      "photoUrl": "",
      "userId": "03692964369482339552"
     },
     "user_tz": -60
    },
    "id": "uICbrUUuuZuD",
    "outputId": "f8713c9f-bcf9-4238-cef2-96555285d7e6"
   },
   "outputs": [
    {
     "data": {
      "text/plain": [
       "0.9105595287260331"
      ]
     },
     "execution_count": 21,
     "metadata": {
      "tags": []
     },
     "output_type": "execute_result"
    }
   ],
   "source": [
    "logit.best_score_"
   ]
  },
  {
   "cell_type": "code",
   "execution_count": 22,
   "metadata": {
    "colab": {
     "base_uri": "https://localhost:8080/",
     "height": 69
    },
    "colab_type": "code",
    "executionInfo": {
     "elapsed": 854,
     "status": "ok",
     "timestamp": 1552286389781,
     "user": {
      "displayName": "Nam Hoang",
      "photoUrl": "",
      "userId": "03692964369482339552"
     },
     "user_tz": -60
    },
    "id": "_4SS4KtyuZw1",
    "outputId": "da7e4b49-8efc-412d-a5ac-5da168e500fe"
   },
   "outputs": [
    {
     "name": "stdout",
     "output_type": "stream",
     "text": [
      "Accuracy of Logistic Regression model on test set: 91.07%\n",
      "F1 Score of Logistic Regression model on test set: 0.57\n",
      "AUC of Logistic Regression model on test set: 0.89\n"
     ]
    }
   ],
   "source": [
    "print('Accuracy of Logistic Regression model on test set: {:.2f}%'.format(accuracy_score(Y_test, logit.predict(X_test))*100))\n",
    "print('F1 Score of Logistic Regression model on test set: {:.2f}'.format(f1_score(Y_test, logit.predict(X_test))))\n",
    "print('AUC of Logistic Regression model on test set: {:.2f}'.format(roc_auc_score(Y_test, logit.predict_proba(X_test)[:, 1])))"
   ]
  },
  {
   "cell_type": "code",
   "execution_count": null,
   "metadata": {},
   "outputs": [],
   "source": [
    "def plot_roc_curve(clf):\n",
    "    fpr, tpr, _ = roc_curve(Y_test.values, clf.predict_proba(X_test.values)[:, 1])\n",
    "    roc_auc = auc(fpr, tpr)\n",
    "\n",
    "    fig, ax = plt.subplots(figsize = (6, 6))\n",
    "    plt.xlim([-0.01, 1.00])\n",
    "    plt.ylim([-0.01, 1.01])\n",
    "    ax.plot(fpr, tpr, lw=3, label = 'ROC curve (area = {:0.2f})'.format(roc_auc))\n",
    "    plt.xlabel('False Positive Rate', fontsize=15)\n",
    "    plt.ylabel('True Positive Rate', fontsize=15)\n",
    "    plt.title('ROC curve', fontsize=16)\n",
    "    plt.legend(loc='lower right', fontsize=13)\n",
    "    plt.plot([0, 1], [0, 1], color='navy', lw=3, linestyle='--')\n",
    "    ax.set_aspect('equal')\n",
    "    return plt.show()"
   ]
  },
  {
   "cell_type": "code",
   "execution_count": 23,
   "metadata": {
    "colab": {
     "base_uri": "https://localhost:8080/",
     "height": 411
    },
    "colab_type": "code",
    "executionInfo": {
     "elapsed": 848,
     "status": "ok",
     "timestamp": 1552286394440,
     "user": {
      "displayName": "Nam Hoang",
      "photoUrl": "",
      "userId": "03692964369482339552"
     },
     "user_tz": -60
    },
    "id": "puRG6unauZzS",
    "outputId": "4b1127dd-92c2-455e-e56e-2b890a64eff4"
   },
   "outputs": [
    {
     "data": {
      "image/png": "[encoded data removed]",
      "text/plain": [
       "<Figure size 432x432 with 1 Axes>"
      ]
     },
     "metadata": {
      "tags": []
     },
     "output_type": "display_data"
    }
   ],
   "source": [
    "plot_roc_curve(logit)"
   ]
  },
  {
   "cell_type": "code",
   "execution_count": null,
   "metadata": {},
   "outputs": [],
   "source": [
    "results = pd.DataFrame(columns = ['Model', 'ACC_train', 'ACC_test', 'F1_train', 'F1_test', 'AUC_train', 'AUC_test'])"
   ]
  },
  {
   "cell_type": "code",
   "execution_count": 0,
   "metadata": {
    "colab": {},
    "colab_type": "code",
    "id": "MbA6qeHPuZ13"
   },
   "outputs": [],
   "source": [
    "results.loc[len(results), :] = ['Logistic Regression', accuracy_score(Y_train, logit.predict(X_train)), accuracy_score(Y_test, logit.predict(X_test)),\n",
    "f1_score(Y_train, logit.predict(X_train)), f1_score(Y_test, logit.predict(X_test)),\n",
    "roc_auc_score(Y_train, logit.predict_proba(X_train)[:, 1]), roc_auc_score(Y_test, logit.predict_proba(X_test)[:, 1])] "
   ]
  },
  {
   "cell_type": "markdown",
   "metadata": {
    "colab_type": "text",
    "id": "zJbykyonvvuj"
   },
   "source": [
    "### 4.2. Random Forest"
   ]
  },
  {
   "cell_type": "code",
   "execution_count": 0,
   "metadata": {
    "colab": {},
    "colab_type": "code",
    "id": "FLQxnndZuZ61"
   },
   "outputs": [],
   "source": [
    "# Preparing hyper-parameters for tuning\n",
    "max_depth = [int(x) for x in np.linspace(3, 50, num = 5)]\n",
    "min_samples_split = [2, 5]\n",
    "min_samples_leaf = [1, 2, 5]\n",
    "\n",
    "# Create the random grid\n",
    "random_grid = {'max_depth': max_depth,\n",
    "               'min_samples_split': min_samples_split,\n",
    "               'min_samples_leaf': min_samples_leaf}"
   ]
  },
  {
   "cell_type": "code",
   "execution_count": 0,
   "metadata": {
    "colab": {
     "base_uri": "https://localhost:8080/",
     "height": 295
    },
    "colab_type": "code",
    "executionInfo": {
     "elapsed": 690923,
     "status": "ok",
     "timestamp": 1552224350264,
     "user": {
      "displayName": "Nam Hoang",
      "photoUrl": "",
      "userId": "03692964369482339552"
     },
     "user_tz": -60
    },
    "id": "KdfdMWmEuZ9k",
    "outputId": "49271b6a-3f79-440f-a65a-19f2cd0a3892"
   },
   "outputs": [
    {
     "name": "stdout",
     "output_type": "stream",
     "text": [
      "Fitting 5 folds for each of 10 candidates, totalling 50 fits\n"
     ]
    },
    {
     "name": "stderr",
     "output_type": "stream",
     "text": [
      "[Parallel(n_jobs=-1)]: Using backend LokyBackend with 2 concurrent workers.\n",
      "[Parallel(n_jobs=-1)]: Done  37 tasks      | elapsed:  7.7min\n",
      "[Parallel(n_jobs=-1)]: Done  50 out of  50 | elapsed: 11.1min finished\n"
     ]
    },
    {
     "data": {
      "text/plain": [
       "RandomizedSearchCV(cv=5, error_score='raise-deprecating',\n",
       "          estimator=RandomForestClassifier(bootstrap=True, class_weight=None, criterion='gini',\n",
       "            max_depth=None, max_features='sqrt', max_leaf_nodes=None,\n",
       "            min_impurity_decrease=0.0, min_impurity_split=None,\n",
       "            min_samples_leaf=1, min_samples_split=2,\n",
       "            min_weight_fraction_leaf=0.0, n_estimators=500, n_jobs=None,\n",
       "            oob_score=False, random_state=None, verbose=0,\n",
       "            warm_start=False),\n",
       "          fit_params=None, iid='warn', n_iter=10, n_jobs=-1,\n",
       "          param_distributions={'max_depth': [3, 14, 26, 38, 50], 'min_samples_split': [2, 5], 'min_samples_leaf': [1, 2, 5]},\n",
       "          pre_dispatch='2*n_jobs', random_state=167, refit=True,\n",
       "          return_train_score='warn', scoring='roc_auc', verbose=2)"
      ]
     },
     "execution_count": 30,
     "metadata": {
      "tags": []
     },
     "output_type": "execute_result"
    }
   ],
   "source": [
    "# Tuning hyper-parameters by RandomizedSearchCV\n",
    "rf = RandomizedSearchCV(estimator = RandomForestClassifier(n_estimators = 500, bootstrap = True, max_features = 'sqrt'), param_distributions = random_grid, cv = 5, scoring = 'roc_auc', verbose=2, random_state = 167, n_jobs = -1)\n",
    "rf.fit(X_train, Y_train)"
   ]
  },
  {
   "cell_type": "code",
   "execution_count": 0,
   "metadata": {
    "colab": {
     "base_uri": "https://localhost:8080/",
     "height": 35
    },
    "colab_type": "code",
    "executionInfo": {
     "elapsed": 564551,
     "status": "ok",
     "timestamp": 1552224350265,
     "user": {
      "displayName": "Nam Hoang",
      "photoUrl": "",
      "userId": "03692964369482339552"
     },
     "user_tz": -60
    },
    "id": "KZR5FL4XuaAG",
    "outputId": "ea9bda29-b892-4e68-bc15-3f8a85b95271"
   },
   "outputs": [
    {
     "data": {
      "text/plain": [
       "{'max_depth': 38, 'min_samples_leaf': 5, 'min_samples_split': 2}"
      ]
     },
     "execution_count": 31,
     "metadata": {
      "tags": []
     },
     "output_type": "execute_result"
    }
   ],
   "source": [
    "rf.best_params_"
   ]
  },
  {
   "cell_type": "code",
   "execution_count": 0,
   "metadata": {
    "colab": {
     "base_uri": "https://localhost:8080/",
     "height": 35
    },
    "colab_type": "code",
    "executionInfo": {
     "elapsed": 562896,
     "status": "ok",
     "timestamp": 1552224350266,
     "user": {
      "displayName": "Nam Hoang",
      "photoUrl": "",
      "userId": "03692964369482339552"
     },
     "user_tz": -60
    },
    "id": "zs5SCbL8vjgZ",
    "outputId": "0caca545-aaae-4545-c087-3450dfe6e564"
   },
   "outputs": [
    {
     "data": {
      "text/plain": [
       "0.8949518978754711"
      ]
     },
     "execution_count": 32,
     "metadata": {
      "tags": []
     },
     "output_type": "execute_result"
    }
   ],
   "source": [
    "rf.best_score_"
   ]
  },
  {
   "cell_type": "code",
   "execution_count": 25,
   "metadata": {
    "colab": {
     "base_uri": "https://localhost:8080/",
     "height": 139
    },
    "colab_type": "code",
    "executionInfo": {
     "elapsed": 25070,
     "status": "ok",
     "timestamp": 1552286432702,
     "user": {
      "displayName": "Nam Hoang",
      "photoUrl": "",
      "userId": "03692964369482339552"
     },
     "user_tz": -60
    },
    "id": "Bg6bQ8WO3XBg",
    "outputId": "725ff905-8f1c-4251-891b-72efee0c4882"
   },
   "outputs": [
    {
     "data": {
      "text/plain": [
       "RandomForestClassifier(bootstrap=True, class_weight=None, criterion='gini',\n",
       "            max_depth=38, max_features='sqrt', max_leaf_nodes=None,\n",
       "            min_impurity_decrease=0.0, min_impurity_split=None,\n",
       "            min_samples_leaf=5, min_samples_split=2,\n",
       "            min_weight_fraction_leaf=0.0, n_estimators=500, n_jobs=None,\n",
       "            oob_score=False, random_state=None, verbose=0,\n",
       "            warm_start=False)"
      ]
     },
     "execution_count": 25,
     "metadata": {
      "tags": []
     },
     "output_type": "execute_result"
    }
   ],
   "source": [
    "rf = RandomForestClassifier(max_depth = 38, min_samples_leaf = 5, min_samples_split = 2, n_estimators = 500, max_features = 'sqrt', bootstrap = True)\n",
    "rf.fit(X_train, Y_train)"
   ]
  },
  {
   "cell_type": "code",
   "execution_count": 26,
   "metadata": {
    "colab": {
     "base_uri": "https://localhost:8080/",
     "height": 69
    },
    "colab_type": "code",
    "executionInfo": {
     "elapsed": 1304,
     "status": "ok",
     "timestamp": 1552286440986,
     "user": {
      "displayName": "Nam Hoang",
      "photoUrl": "",
      "userId": "03692964369482339552"
     },
     "user_tz": -60
    },
    "id": "VdVmA2jhvji-",
    "outputId": "97fd0ef4-8c27-473a-b1a3-ab952415a371"
   },
   "outputs": [
    {
     "name": "stdout",
     "output_type": "stream",
     "text": [
      "Accuracy of Random Forest model on test set: 91.00%\n",
      "F1 Score of Random Forest model on test set: 0.55\n",
      "AUC of Random Forest model on test set: 0.87\n"
     ]
    }
   ],
   "source": [
    "print('Accuracy of Random Forest model on test set: {:.2f}%'.format(rf.score(X_test, Y_test)*100))\n",
    "print('F1 Score of Random Forest model on test set: {:.2f}'.format(f1_score(Y_test, rf.predict(X_test))))\n",
    "print('AUC of Random Forest model on test set: {:.2f}'.format(roc_auc_score(Y_test, rf.predict_proba(X_test)[:, 1])))"
   ]
  },
  {
   "cell_type": "code",
   "execution_count": 27,
   "metadata": {
    "colab": {
     "base_uri": "https://localhost:8080/",
     "height": 411
    },
    "colab_type": "code",
    "executionInfo": {
     "elapsed": 1214,
     "status": "ok",
     "timestamp": 1552286452661,
     "user": {
      "displayName": "Nam Hoang",
      "photoUrl": "",
      "userId": "03692964369482339552"
     },
     "user_tz": -60
    },
    "id": "93vfPwuEvjlN",
    "outputId": "ab1a2a59-d08c-48a7-f406-6c2adb4e063c"
   },
   "outputs": [
    {
     "data": {
      "image/png": "[encoded data removed]",
      "text/plain": [
       "<Figure size 432x432 with 1 Axes>"
      ]
     },
     "metadata": {
      "tags": []
     },
     "output_type": "display_data"
    }
   ],
   "source": [
    "plot_roc_curve(rf)"
   ]
  },
  {
   "cell_type": "code",
   "execution_count": 28,
   "metadata": {
    "colab": {
     "base_uri": "https://localhost:8080/",
     "height": 409
    },
    "colab_type": "code",
    "executionInfo": {
     "elapsed": 1107,
     "status": "ok",
     "timestamp": 1552286460139,
     "user": {
      "displayName": "Nam Hoang",
      "photoUrl": "",
      "userId": "03692964369482339552"
     },
     "user_tz": -60
    },
    "id": "r6OHBGqguaCa",
    "outputId": "cfdf1050-0048-4317-c73b-183a61923616"
   },
   "outputs": [
    {
     "data": {
      "text/plain": [
       "<matplotlib.axes._subplots.AxesSubplot at 0x7fce309500b8>"
      ]
     },
     "execution_count": 28,
     "metadata": {
      "tags": []
     },
     "output_type": "execute_result"
    },
    {
     "data": {
      "image/png": "[encoded data removed]",
      "text/plain": [
       "<Figure size 864x432 with 1 Axes>"
      ]
     },
     "metadata": {
      "tags": []
     },
     "output_type": "display_data"
    }
   ],
   "source": [
    "pd.Series(rf.feature_importances_, index = X_train.columns).nlargest(10).sort_values().plot.barh(figsize = (12, 6), title = 'Plot feature importances')"
   ]
  },
  {
   "cell_type": "code",
   "execution_count": 0,
   "metadata": {
    "colab": {},
    "colab_type": "code",
    "id": "9Akas2LGvq6D"
   },
   "outputs": [],
   "source": [
    "results.loc[len(results), :] = ['Random Forest', accuracy_score(Y_train, rf.predict(X_train)), accuracy_score(Y_test, rf.predict(X_test)),\n",
    "f1_score(Y_train, rf.predict(X_train)), f1_score(Y_test, rf.predict(X_test)),\n",
    "roc_auc_score(Y_train, rf.predict_proba(X_train)[:, 1]), roc_auc_score(Y_test, rf.predict_proba(X_test)[:, 1])] "
   ]
  },
  {
   "cell_type": "markdown",
   "metadata": {
    "colab_type": "text",
    "id": "AfCiiORk6FvL"
   },
   "source": [
    "### 4.3. Gradient Boosting"
   ]
  },
  {
   "cell_type": "code",
   "execution_count": 0,
   "metadata": {
    "colab": {},
    "colab_type": "code",
    "id": "Wcfpajmfvq_P"
   },
   "outputs": [],
   "source": [
    "# Preparing hyper-parameters for tuning\n",
    "max_depth = [int(x) for x in np.linspace(3, 50, num = 3)]\n",
    "min_samples_split = [2, 5, 10]\n",
    "min_samples_leaf = [1, 2, 4]\n",
    "\n",
    "# Create the random grid\n",
    "random_grid = {'max_depth': max_depth,\n",
    "               'min_samples_split': min_samples_split,\n",
    "               'min_samples_leaf': min_samples_leaf}"
   ]
  },
  {
   "cell_type": "code",
   "execution_count": 0,
   "metadata": {
    "colab": {
     "base_uri": "https://localhost:8080/",
     "height": 277
    },
    "colab_type": "code",
    "executionInfo": {
     "elapsed": 1059547,
     "status": "ok",
     "timestamp": 1552227996804,
     "user": {
      "displayName": "Nam Hoang",
      "photoUrl": "",
      "userId": "03692964369482339552"
     },
     "user_tz": -60
    },
    "id": "Hjz-0hddvrCC",
    "outputId": "f16b6123-c414-4950-fe2d-59cf79f52bd9"
   },
   "outputs": [
    {
     "name": "stdout",
     "output_type": "stream",
     "text": [
      "Fitting 5 folds for each of 10 candidates, totalling 50 fits\n"
     ]
    },
    {
     "name": "stderr",
     "output_type": "stream",
     "text": [
      "[Parallel(n_jobs=-1)]: Using backend LokyBackend with 2 concurrent workers.\n",
      "[Parallel(n_jobs=-1)]: Done  37 tasks      | elapsed: 14.1min\n",
      "[Parallel(n_jobs=-1)]: Done  50 out of  50 | elapsed: 17.6min finished\n"
     ]
    },
    {
     "data": {
      "text/plain": [
       "RandomizedSearchCV(cv=5, error_score='raise-deprecating',\n",
       "          estimator=GradientBoostingClassifier(criterion='friedman_mse', init=None,\n",
       "              learning_rate=0.1, loss='deviance', max_depth=3,\n",
       "              max_features='sqrt', max_leaf_nodes=None,\n",
       "              min_impurity_decrease=0.0, min_impurity_split=None,\n",
       "              min_samples_leaf=1, min_sam...      subsample=1.0, tol=0.0001, validation_fraction=0.1,\n",
       "              verbose=0, warm_start=False),\n",
       "          fit_params=None, iid='warn', n_iter=10, n_jobs=-1,\n",
       "          param_distributions={'max_depth': [3, 26, 50], 'min_samples_split': [2, 5, 10], 'min_samples_leaf': [1, 2, 4]},\n",
       "          pre_dispatch='2*n_jobs', random_state=167, refit=True,\n",
       "          return_train_score='warn', scoring='roc_auc', verbose=2)"
      ]
     },
     "execution_count": 49,
     "metadata": {
      "tags": []
     },
     "output_type": "execute_result"
    }
   ],
   "source": [
    "# Tuning hyper-parameters by RandomizedSearchCV\n",
    "gb = RandomizedSearchCV(estimator = GradientBoostingClassifier(n_estimators = 500, max_features = 'sqrt'), param_distributions = random_grid, cv = 5, scoring = 'roc_auc', verbose=2, random_state = 167, n_jobs = -1)\n",
    "gb.fit(X_train, Y_train)"
   ]
  },
  {
   "cell_type": "code",
   "execution_count": 0,
   "metadata": {
    "colab": {
     "base_uri": "https://localhost:8080/",
     "height": 35
    },
    "colab_type": "code",
    "executionInfo": {
     "elapsed": 601,
     "status": "ok",
     "timestamp": 1552228006685,
     "user": {
      "displayName": "Nam Hoang",
      "photoUrl": "",
      "userId": "03692964369482339552"
     },
     "user_tz": -60
    },
    "id": "heqQ_Bu-6Sh8",
    "outputId": "6fbeb808-b69c-46f8-ff5f-8e3b7c576e2c"
   },
   "outputs": [
    {
     "data": {
      "text/plain": [
       "{'max_depth': 3, 'min_samples_leaf': 1, 'min_samples_split': 2}"
      ]
     },
     "execution_count": 50,
     "metadata": {
      "tags": []
     },
     "output_type": "execute_result"
    }
   ],
   "source": [
    "gb.best_params_"
   ]
  },
  {
   "cell_type": "code",
   "execution_count": 0,
   "metadata": {
    "colab": {},
    "colab_type": "code",
    "id": "kRqFy-tD6Sri"
   },
   "outputs": [],
   "source": [
    "gb.best_score_"
   ]
  },
  {
   "cell_type": "code",
   "execution_count": 30,
   "metadata": {
    "colab": {
     "base_uri": "https://localhost:8080/",
     "height": 173
    },
    "colab_type": "code",
    "executionInfo": {
     "elapsed": 4217,
     "status": "ok",
     "timestamp": 1552286502845,
     "user": {
      "displayName": "Nam Hoang",
      "photoUrl": "",
      "userId": "03692964369482339552"
     },
     "user_tz": -60
    },
    "id": "9gZU8Sce6JuU",
    "outputId": "277250c5-277d-49be-ea8b-f1f6510cbb69"
   },
   "outputs": [
    {
     "data": {
      "text/plain": [
       "GradientBoostingClassifier(criterion='friedman_mse', init=None,\n",
       "              learning_rate=0.1, loss='deviance', max_depth=3,\n",
       "              max_features='sqrt', max_leaf_nodes=None,\n",
       "              min_impurity_decrease=0.0, min_impurity_split=None,\n",
       "              min_samples_leaf=1, min_samples_split=2,\n",
       "              min_weight_fraction_leaf=0.0, n_estimators=500,\n",
       "              n_iter_no_change=None, presort='auto', random_state=None,\n",
       "              subsample=1.0, tol=0.0001, validation_fraction=0.1,\n",
       "              verbose=0, warm_start=False)"
      ]
     },
     "execution_count": 30,
     "metadata": {
      "tags": []
     },
     "output_type": "execute_result"
    }
   ],
   "source": [
    "gb = GradientBoostingClassifier(n_estimators = 500, max_features = 'sqrt', max_depth = 3, min_samples_leaf = 1, min_samples_split = 2)\n",
    "gb.fit(X_train, Y_train)"
   ]
  },
  {
   "cell_type": "code",
   "execution_count": 31,
   "metadata": {
    "colab": {
     "base_uri": "https://localhost:8080/",
     "height": 69
    },
    "colab_type": "code",
    "executionInfo": {
     "elapsed": 979,
     "status": "ok",
     "timestamp": 1552286506468,
     "user": {
      "displayName": "Nam Hoang",
      "photoUrl": "",
      "userId": "03692964369482339552"
     },
     "user_tz": -60
    },
    "id": "XOX1UI1HvrE3",
    "outputId": "2b14421a-a238-4671-b759-beaa5b310f00"
   },
   "outputs": [
    {
     "name": "stdout",
     "output_type": "stream",
     "text": [
      "Accuracy of Gradient Boosting model on test set: 90.47%\n",
      "F1 Score of Gradient Boosting model on test set: 0.55\n",
      "AUC of Gradient Boosting model on test set: 0.88\n"
     ]
    }
   ],
   "source": [
    "print('Accuracy of Gradient Boosting model on test set: {:.2f}%'.format(gb.score(X_test, Y_test)*100))\n",
    "print('F1 Score of Gradient Boosting model on test set: {:.2f}'.format(f1_score(Y_test, gb.predict(X_test))))\n",
    "print('AUC of Gradient Boosting model on test set: {:.2f}'.format(roc_auc_score(Y_test, gb.predict_proba(X_test)[:, 1])))"
   ]
  },
  {
   "cell_type": "code",
   "execution_count": 32,
   "metadata": {
    "colab": {
     "base_uri": "https://localhost:8080/",
     "height": 411
    },
    "colab_type": "code",
    "executionInfo": {
     "elapsed": 1106,
     "status": "ok",
     "timestamp": 1552286512463,
     "user": {
      "displayName": "Nam Hoang",
      "photoUrl": "",
      "userId": "03692964369482339552"
     },
     "user_tz": -60
    },
    "id": "bn3YN-gRvrHM",
    "outputId": "ae4c1424-a8b0-48fa-a9b7-8684002ad1f5"
   },
   "outputs": [
    {
     "data": {
      "image/png": "[encoded data removed]",
      "text/plain": [
       "<Figure size 432x432 with 1 Axes>"
      ]
     },
     "metadata": {
      "tags": []
     },
     "output_type": "display_data"
    }
   ],
   "source": [
    "plot_roc_curve(gb)"
   ]
  },
  {
   "cell_type": "code",
   "execution_count": 58,
   "metadata": {
    "colab": {
     "base_uri": "https://localhost:8080/",
     "height": 409
    },
    "colab_type": "code",
    "executionInfo": {
     "elapsed": 1382,
     "status": "ok",
     "timestamp": 1552289800803,
     "user": {
      "displayName": "Nam Hoang",
      "photoUrl": "",
      "userId": "03692964369482339552"
     },
     "user_tz": -60
    },
    "id": "BhVmE2ZNvrKB",
    "outputId": "924f3dd5-8b16-4ef4-96cd-2cf3c05f0304"
   },
   "outputs": [
    {
     "data": {
      "text/plain": [
       "<matplotlib.axes._subplots.AxesSubplot at 0x7fce30b2cdd8>"
      ]
     },
     "execution_count": 58,
     "metadata": {
      "tags": []
     },
     "output_type": "execute_result"
    },
    {
     "data": {
      "image/png": "[encoded data removed]",
      "text/plain": [
       "<Figure size 864x432 with 1 Axes>"
      ]
     },
     "metadata": {
      "tags": []
     },
     "output_type": "display_data"
    }
   ],
   "source": [
    "pd.Series(gb.feature_importances_, index = X_train.columns).nlargest(15).sort_values().plot.barh(figsize = (12, 6), title = 'Plot feature importances')"
   ]
  },
  {
   "cell_type": "code",
   "execution_count": 0,
   "metadata": {
    "colab": {},
    "colab_type": "code",
    "id": "rdXtfqeJvrMn"
   },
   "outputs": [],
   "source": [
    "results.loc[len(results), :] = ['Gradient Boosting', accuracy_score(Y_train, gb.predict(X_train)), accuracy_score(Y_test, gb.predict(X_test)),\n",
    "f1_score(Y_train, gb.predict(X_train)), f1_score(Y_test, gb.predict(X_test)),\n",
    "roc_auc_score(Y_train, gb.predict_proba(X_train)[:, 1]), roc_auc_score(Y_test, gb.predict_proba(X_test)[:, 1])] "
   ]
  },
  {
   "cell_type": "markdown",
   "metadata": {
    "colab_type": "text",
    "id": "iAPoGvLe7D7G"
   },
   "source": [
    "### 4.4. Light GBM"
   ]
  },
  {
   "cell_type": "code",
   "execution_count": 46,
   "metadata": {
    "colab": {
     "base_uri": "https://localhost:8080/",
     "height": 349
    },
    "colab_type": "code",
    "executionInfo": {
     "elapsed": 2287201,
     "status": "ok",
     "timestamp": 1552289239016,
     "user": {
      "displayName": "Nam Hoang",
      "photoUrl": "",
      "userId": "03692964369482339552"
     },
     "user_tz": -60
    },
    "id": "1W2hUHUt6nv2",
    "outputId": "e0276183-7a45-42c9-d737-0c6a42084dcf"
   },
   "outputs": [
    {
     "name": "stdout",
     "output_type": "stream",
     "text": [
      "Fitting 5 folds for each of 27 candidates, totalling 135 fits\n"
     ]
    },
    {
     "name": "stderr",
     "output_type": "stream",
     "text": [
      "[Parallel(n_jobs=-1)]: Using backend LokyBackend with 2 concurrent workers.\n",
      "/usr/local/lib/python3.6/dist-packages/sklearn/externals/joblib/externals/loky/process_executor.py:706: UserWarning: A worker stopped while some jobs were given to the executor. This can be caused by a too short worker timeout or by a memory leak.\n",
      "  \"timeout or by a memory leak.\", UserWarning\n",
      "[Parallel(n_jobs=-1)]: Done  37 tasks      | elapsed:  7.8min\n",
      "[Parallel(n_jobs=-1)]: Done 135 out of 135 | elapsed: 38.0min finished\n"
     ]
    },
    {
     "data": {
      "text/plain": [
       "GridSearchCV(cv=5, error_score='raise-deprecating',\n",
       "       estimator=LGBMClassifier(bagging_fraction=0.8, boosting_type='gbdt', class_weight=None,\n",
       "        colsample_bytree=1.0, feature_fraction=0.8,\n",
       "        importance_type='split', learning_rate=0.1, max_depth=-1,\n",
       "        metric='auc', min_child_samples=20, min_child_weight=0.001,\n",
       "        min_split_gain=0.0..._lambda=0.0,\n",
       "        silent=True, subsample=1.0, subsample_for_bin=200000,\n",
       "        subsample_freq=0),\n",
       "       fit_params=None, iid=False, n_jobs=-1,\n",
       "       param_grid={'max_depth': [3, 16, 30], 'num_leaves': [10, 40, 70], 'lambda': [0.01, 0.1, 1]},\n",
       "       pre_dispatch='2*n_jobs', refit=True, return_train_score='warn',\n",
       "       scoring='roc_auc', verbose=2)"
      ]
     },
     "execution_count": 46,
     "metadata": {
      "tags": []
     },
     "output_type": "execute_result"
    }
   ],
   "source": [
    "# Tuning hyper-parameters by GridSearchCV\n",
    "param_grid = {'max_depth': [int(x) for x in np.linspace(3, 30, 3)],\n",
    "              'num_leaves': [int(x) for x in np.arange(10, 100, 30)],\n",
    "              'lambda': [1e-2, 0.1, 1]}\n",
    "lightgbm = GridSearchCV(estimator = lgb.LGBMClassifier(metric = 'auc', learning_rate = 0.1, n_estimators = 500, feature_fraction = 0.8, \n",
    "                                                 bagging_fraction = 0.8), param_grid = param_grid, \n",
    "                                                 scoring = 'roc_auc', n_jobs = -1, verbose = 2, iid = False, cv = 5)\n",
    "lightgbm.fit(X_train, Y_train)"
   ]
  },
  {
   "cell_type": "code",
   "execution_count": 47,
   "metadata": {
    "colab": {
     "base_uri": "https://localhost:8080/",
     "height": 35
    },
    "colab_type": "code",
    "executionInfo": {
     "elapsed": 1022,
     "status": "ok",
     "timestamp": 1552289489800,
     "user": {
      "displayName": "Nam Hoang",
      "photoUrl": "",
      "userId": "03692964369482339552"
     },
     "user_tz": -60
    },
    "id": "7EnGzdxe6nyv",
    "outputId": "6c26bd5a-2763-4691-de94-0cb6cbe2aee0"
   },
   "outputs": [
    {
     "data": {
      "text/plain": [
       "{'lambda': 1, 'max_depth': 3, 'num_leaves': 10}"
      ]
     },
     "execution_count": 47,
     "metadata": {
      "tags": []
     },
     "output_type": "execute_result"
    }
   ],
   "source": [
    "lightgbm.best_params_"
   ]
  },
  {
   "cell_type": "code",
   "execution_count": 48,
   "metadata": {
    "colab": {
     "base_uri": "https://localhost:8080/",
     "height": 35
    },
    "colab_type": "code",
    "executionInfo": {
     "elapsed": 808,
     "status": "ok",
     "timestamp": 1552289521007,
     "user": {
      "displayName": "Nam Hoang",
      "photoUrl": "",
      "userId": "03692964369482339552"
     },
     "user_tz": -60
    },
    "id": "IhKv-Vxn6n1X",
    "outputId": "4374a0da-6a4b-496d-d9c3-08fdb21ba6f8"
   },
   "outputs": [
    {
     "data": {
      "text/plain": [
       "0.8839338762799753"
      ]
     },
     "execution_count": 48,
     "metadata": {
      "tags": []
     },
     "output_type": "execute_result"
    }
   ],
   "source": [
    "lightgbm.best_score_"
   ]
  },
  {
   "cell_type": "code",
   "execution_count": 50,
   "metadata": {
    "colab": {
     "base_uri": "https://localhost:8080/",
     "height": 156
    },
    "colab_type": "code",
    "executionInfo": {
     "elapsed": 5843,
     "status": "ok",
     "timestamp": 1552289658054,
     "user": {
      "displayName": "Nam Hoang",
      "photoUrl": "",
      "userId": "03692964369482339552"
     },
     "user_tz": -60
    },
    "id": "voXlKX5w6n4T",
    "outputId": "cb728f9a-83bb-4b3f-9f94-91f1e6039255"
   },
   "outputs": [
    {
     "data": {
      "text/plain": [
       "LGBMClassifier(bagging_fraction=0.8, boosting_type='gbdt', class_weight=None,\n",
       "        colsample_bytree=1.0, feature_fraction=0.8,\n",
       "        importance_type='split', learning_rate=0.1, max_depth=3,\n",
       "        metric='auc', min_child_samples=20, min_child_weight=0.001,\n",
       "        min_split_gain=0.0, n_estimators=500, n_jobs=-1, num_leaves=10,\n",
       "        objective=None, random_state=None, reg_alpha=0.0, reg_lambda=1,\n",
       "        silent=True, subsample=1.0, subsample_for_bin=200000,\n",
       "        subsample_freq=0)"
      ]
     },
     "execution_count": 50,
     "metadata": {
      "tags": []
     },
     "output_type": "execute_result"
    }
   ],
   "source": [
    "lightgbm = lgb.LGBMClassifier(metric = 'auc', learning_rate = 0.1, n_estimators = 500, feature_fraction = 0.8, \n",
    "                              bagging_fraction = 0.8, max_depth = 3, num_leaves = 10, reg_lambda = 1, n_jobs = -1)\n",
    "lightgbm.fit(X_train, Y_train)"
   ]
  },
  {
   "cell_type": "code",
   "execution_count": 51,
   "metadata": {
    "colab": {
     "base_uri": "https://localhost:8080/",
     "height": 69
    },
    "colab_type": "code",
    "executionInfo": {
     "elapsed": 990,
     "status": "ok",
     "timestamp": 1552289661633,
     "user": {
      "displayName": "Nam Hoang",
      "photoUrl": "",
      "userId": "03692964369482339552"
     },
     "user_tz": -60
    },
    "id": "50P5tTln6n69",
    "outputId": "adac9029-1902-4f8b-9b85-68558a29c3b1"
   },
   "outputs": [
    {
     "name": "stdout",
     "output_type": "stream",
     "text": [
      "Accuracy of LightGBM model on test set: 90.70%\n",
      "F1 Score of LightGBM model on test set: 0.56\n",
      "AUC of LightGBM model on test set: 0.86\n"
     ]
    }
   ],
   "source": [
    "print('Accuracy of LightGBM model on test set: {:.2f}%'.format(lightgbm.score(X_test, Y_test)*100))\n",
    "print('F1 Score of LightGBM model on test set: {:.2f}'.format(f1_score(Y_test, lightgbm.predict(X_test))))\n",
    "print('AUC of LightGBM model on test set: {:.2f}'.format(roc_auc_score(Y_test, lightgbm.predict_proba(X_test)[:, 1])))"
   ]
  },
  {
   "cell_type": "code",
   "execution_count": 52,
   "metadata": {
    "colab": {
     "base_uri": "https://localhost:8080/",
     "height": 411
    },
    "colab_type": "code",
    "executionInfo": {
     "elapsed": 1490,
     "status": "ok",
     "timestamp": 1552289676440,
     "user": {
      "displayName": "Nam Hoang",
      "photoUrl": "",
      "userId": "03692964369482339552"
     },
     "user_tz": -60
    },
    "id": "ZOh8eljb6n91",
    "outputId": "7d9e78fa-5e6a-4f8a-e0a5-1a571adf0a43"
   },
   "outputs": [
    {
     "data": {
      "image/png": "[encoded data removed]",
      "text/plain": [
       "<Figure size 432x432 with 1 Axes>"
      ]
     },
     "metadata": {
      "tags": []
     },
     "output_type": "display_data"
    }
   ],
   "source": [
    "plot_roc_curve(lightgbm)"
   ]
  },
  {
   "cell_type": "code",
   "execution_count": 56,
   "metadata": {
    "colab": {
     "base_uri": "https://localhost:8080/",
     "height": 409
    },
    "colab_type": "code",
    "executionInfo": {
     "elapsed": 1037,
     "status": "ok",
     "timestamp": 1552289772675,
     "user": {
      "displayName": "Nam Hoang",
      "photoUrl": "",
      "userId": "03692964369482339552"
     },
     "user_tz": -60
    },
    "id": "bmBRXe1IvrO-",
    "outputId": "e0e386fb-5000-4392-abb9-9b3e35424eea"
   },
   "outputs": [
    {
     "data": {
      "text/plain": [
       "<matplotlib.axes._subplots.AxesSubplot at 0x7fce30b09748>"
      ]
     },
     "execution_count": 56,
     "metadata": {
      "tags": []
     },
     "output_type": "execute_result"
    },
    {
     "data": {
      "image/png": "[encoded data removed]",
      "text/plain": [
       "<Figure size 864x432 with 1 Axes>"
      ]
     },
     "metadata": {
      "tags": []
     },
     "output_type": "display_data"
    }
   ],
   "source": [
    "pd.Series(lightgbm.feature_importances_, index = X_train.columns).nlargest(15).sort_values().plot.barh(figsize = (12, 6), title = 'Plot feature importances')"
   ]
  },
  {
   "cell_type": "code",
   "execution_count": 0,
   "metadata": {
    "colab": {},
    "colab_type": "code",
    "id": "gJ1m0Po6BlvK"
   },
   "outputs": [],
   "source": [
    "results.loc[len(results), :] = ['Light GBM', accuracy_score(Y_train, lightgbm.predict(X_train)), accuracy_score(Y_test, lightgbm.predict(X_test)),\n",
    "f1_score(Y_train, lightgbm.predict(X_train)), f1_score(Y_test, lightgbm.predict(X_test)),\n",
    "roc_auc_score(Y_train, lightgbm.predict_proba(X_train)[:, 1]), roc_auc_score(Y_test, lightgbm.predict_proba(X_test)[:, 1])] "
   ]
  },
  {
   "cell_type": "markdown",
   "metadata": {
    "colab_type": "text",
    "id": "nMCdrgx1Bqsd"
   },
   "source": [
    "### 4.5. XGBoost"
   ]
  },
  {
   "cell_type": "code",
   "execution_count": 63,
   "metadata": {
    "colab": {
     "base_uri": "https://localhost:8080/",
     "height": 277
    },
    "colab_type": "code",
    "executionInfo": {
     "elapsed": 3609840,
     "status": "ok",
     "timestamp": 1552293889557,
     "user": {
      "displayName": "Nam Hoang",
      "photoUrl": "",
      "userId": "03692964369482339552"
     },
     "user_tz": -60
    },
    "id": "jWhPoCFdBlyJ",
    "outputId": "d2ead90f-2d1f-4b07-96b1-274322b9404a"
   },
   "outputs": [
    {
     "name": "stdout",
     "output_type": "stream",
     "text": [
      "Fitting 5 folds for each of 27 candidates, totalling 135 fits\n"
     ]
    },
    {
     "name": "stderr",
     "output_type": "stream",
     "text": [
      "[Parallel(n_jobs=-1)]: Using backend LokyBackend with 2 concurrent workers.\n",
      "[Parallel(n_jobs=-1)]: Done  37 tasks      | elapsed: 10.2min\n",
      "[Parallel(n_jobs=-1)]: Done 135 out of 135 | elapsed: 59.8min finished\n"
     ]
    },
    {
     "data": {
      "text/plain": [
       "GridSearchCV(cv=5, error_score='raise-deprecating',\n",
       "       estimator=XGBClassifier(base_score=0.5, booster='gbtree', colsample_bylevel=1,\n",
       "       colsample_bytree=0.8, gamma=0, learning_rate=0.1, max_delta_step=0,\n",
       "       max_depth=3, min_child_weight=1, missing=None, n_estimators=500,\n",
       "       n_jobs=1, nthread=4, objective='binary:logistic', random_state=0,\n",
       "       reg_alpha=0, reg_lambda=1, scale_pos_weight=1, seed=27, silent=True,\n",
       "       subsample=0.6),\n",
       "       fit_params=None, iid=False, n_jobs=-1,\n",
       "       param_grid={'max_depth': [3, 16, 30], 'min_child_weight': [1, 3, 5], 'reg_lambda': [0.01, 0.1, 1]},\n",
       "       pre_dispatch='2*n_jobs', refit=True, return_train_score='warn',\n",
       "       scoring='roc_auc', verbose=2)"
      ]
     },
     "execution_count": 63,
     "metadata": {
      "tags": []
     },
     "output_type": "execute_result"
    }
   ],
   "source": [
    "# Tuning hyper-parameters by GridSearchCV\n",
    "param_grid = {'max_depth': [int(x) for x in np.linspace(3, 30, 3)],\n",
    "              'min_child_weight': [1, 3, 5],\n",
    "              'reg_lambda': [1e-2, 0.1, 1]}\n",
    "xgboost = GridSearchCV(estimator = xgb.XGBClassifier(learning_rate = 0.1, n_estimators = 500, colsample_bytree = 0.8, subsample = 0.6,\n",
    "                                            nthread = 4, seed = 27), param_grid = param_grid, scoring = 'roc_auc',\n",
    "                                            n_jobs = -1, verbose = 2, iid = False, cv = 5)\n",
    "xgboost.fit(X_train.values, Y_train.values)"
   ]
  },
  {
   "cell_type": "code",
   "execution_count": 64,
   "metadata": {
    "colab": {
     "base_uri": "https://localhost:8080/",
     "height": 35
    },
    "colab_type": "code",
    "executionInfo": {
     "elapsed": 1115,
     "status": "ok",
     "timestamp": 1552293967236,
     "user": {
      "displayName": "Nam Hoang",
      "photoUrl": "",
      "userId": "03692964369482339552"
     },
     "user_tz": -60
    },
    "id": "S6slC6CH7git",
    "outputId": "9ec9d9f7-dac1-4eb9-b4fc-daa1231b43c2"
   },
   "outputs": [
    {
     "data": {
      "text/plain": [
       "{'max_depth': 3, 'min_child_weight': 5, 'reg_lambda': 1}"
      ]
     },
     "execution_count": 64,
     "metadata": {
      "tags": []
     },
     "output_type": "execute_result"
    }
   ],
   "source": [
    "xgboost.best_params_"
   ]
  },
  {
   "cell_type": "code",
   "execution_count": 65,
   "metadata": {
    "colab": {
     "base_uri": "https://localhost:8080/",
     "height": 35
    },
    "colab_type": "code",
    "executionInfo": {
     "elapsed": 765,
     "status": "ok",
     "timestamp": 1552293977663,
     "user": {
      "displayName": "Nam Hoang",
      "photoUrl": "",
      "userId": "03692964369482339552"
     },
     "user_tz": -60
    },
    "id": "XnMOSbJO7gsc",
    "outputId": "b59a6e8e-407a-43a4-d7d3-2ea830d10fb0"
   },
   "outputs": [
    {
     "data": {
      "text/plain": [
       "0.8829977505843921"
      ]
     },
     "execution_count": 65,
     "metadata": {
      "tags": []
     },
     "output_type": "execute_result"
    }
   ],
   "source": [
    "xgboost.best_score_"
   ]
  },
  {
   "cell_type": "code",
   "execution_count": 66,
   "metadata": {
    "colab": {
     "base_uri": "https://localhost:8080/",
     "height": 121
    },
    "colab_type": "code",
    "executionInfo": {
     "elapsed": 20183,
     "status": "ok",
     "timestamp": 1552294084561,
     "user": {
      "displayName": "Nam Hoang",
      "photoUrl": "",
      "userId": "03692964369482339552"
     },
     "user_tz": -60
    },
    "id": "Sh2Lh_fJBl1X",
    "outputId": "d9353128-1186-4144-ba77-4d8d86f4776f"
   },
   "outputs": [
    {
     "data": {
      "text/plain": [
       "XGBClassifier(base_score=0.5, booster='gbtree', colsample_bylevel=1,\n",
       "       colsample_bytree=0.8, gamma=0, learning_rate=0.1, max_delta_step=0,\n",
       "       max_depth=3, min_child_weight=5, missing=None, n_estimators=500,\n",
       "       n_jobs=-1, nthread=4, objective='binary:logistic', random_state=0,\n",
       "       reg_alpha=0, reg_lambda=1, scale_pos_weight=1, seed=27, silent=True,\n",
       "       subsample=0.6)"
      ]
     },
     "execution_count": 66,
     "metadata": {
      "tags": []
     },
     "output_type": "execute_result"
    }
   ],
   "source": [
    "xgboost = xgb.XGBClassifier(max_depth = 3, learning_rate = 0.1, n_estimators = 500, colsample_bytree = 0.8, n_jobs = -1,\n",
    "                            min_child_weight = 5, reg_lambda = 1, subsample = 0.6, nthread = 4, seed = 27)\n",
    "xgboost.fit(X_train.values, Y_train.values)  "
   ]
  },
  {
   "cell_type": "code",
   "execution_count": 77,
   "metadata": {
    "colab": {
     "base_uri": "https://localhost:8080/",
     "height": 69
    },
    "colab_type": "code",
    "executionInfo": {
     "elapsed": 1000,
     "status": "ok",
     "timestamp": 1552294502456,
     "user": {
      "displayName": "Nam Hoang",
      "photoUrl": "",
      "userId": "03692964369482339552"
     },
     "user_tz": -60
    },
    "id": "qTiELZDPBl4c",
    "outputId": "481d82fe-8e1e-4053-bf87-7f406f466be4"
   },
   "outputs": [
    {
     "name": "stdout",
     "output_type": "stream",
     "text": [
      "Accuracy of XGBoost model on test set: 90.62%\n",
      "F1 Score of XGBoost model on test set: 0.56\n",
      "AUC of XGBoost model on test set: 0.87\n"
     ]
    }
   ],
   "source": [
    "print('Accuracy of XGBoost model on test set: {:.2f}%'.format(accuracy_score(Y_test.values, xgboost.predict(X_test.values))*100))\n",
    "print('F1 Score of XGBoost model on test set: {:.2f}'.format(f1_score(Y_test, xgboost.predict(X_test.values))))\n",
    "print('AUC of XGBoost model on test set: {:.2f}'.format(roc_auc_score(Y_test, xgboost.predict_proba(X_test.values)[:, 1])))"
   ]
  },
  {
   "cell_type": "code",
   "execution_count": 68,
   "metadata": {
    "colab": {
     "base_uri": "https://localhost:8080/",
     "height": 411
    },
    "colab_type": "code",
    "executionInfo": {
     "elapsed": 951,
     "status": "ok",
     "timestamp": 1552294108064,
     "user": {
      "displayName": "Nam Hoang",
      "photoUrl": "",
      "userId": "03692964369482339552"
     },
     "user_tz": -60
    },
    "id": "VgzEh863Bl9k",
    "outputId": "1bfd7c73-a7c0-47e3-fa42-bf7c17325c5b"
   },
   "outputs": [
    {
     "data": {
      "image/png": "[encoded data removed]",
      "text/plain": [
       "<Figure size 432x432 with 1 Axes>"
      ]
     },
     "metadata": {
      "tags": []
     },
     "output_type": "display_data"
    }
   ],
   "source": [
    "plot_roc_curve(xgboost)"
   ]
  },
  {
   "cell_type": "code",
   "execution_count": 70,
   "metadata": {
    "colab": {
     "base_uri": "https://localhost:8080/",
     "height": 409
    },
    "colab_type": "code",
    "executionInfo": {
     "elapsed": 1463,
     "status": "ok",
     "timestamp": 1552294121790,
     "user": {
      "displayName": "Nam Hoang",
      "photoUrl": "",
      "userId": "03692964369482339552"
     },
     "user_tz": -60
    },
    "id": "wIFgfarjCr-L",
    "outputId": "006417c1-7806-4005-8cef-bacf270ffab4"
   },
   "outputs": [
    {
     "data": {
      "text/plain": [
       "<matplotlib.axes._subplots.AxesSubplot at 0x7fce30bea3c8>"
      ]
     },
     "execution_count": 70,
     "metadata": {
      "tags": []
     },
     "output_type": "execute_result"
    },
    {
     "data": {
      "image/png": "[encoded data removed]",
      "text/plain": [
       "<Figure size 864x432 with 1 Axes>"
      ]
     },
     "metadata": {
      "tags": []
     },
     "output_type": "display_data"
    }
   ],
   "source": [
    "pd.Series(xgboost.feature_importances_, index = X_train.columns).nlargest(15).sort_values().plot.barh(figsize = (12, 6), title = 'Plot feature importances')"
   ]
  },
  {
   "cell_type": "code",
   "execution_count": 0,
   "metadata": {
    "colab": {},
    "colab_type": "code",
    "id": "EOojz6NUBmAq"
   },
   "outputs": [],
   "source": [
    "results.loc[len(results), :] = ['XGBoost', accuracy_score(Y_train, xgboost.predict(X_train.values)), accuracy_score(Y_test, xgboost.predict(X_test.values)),\n",
    "f1_score(Y_train, xgboost.predict(X_train.values)), f1_score(Y_test, xgboost.predict(X_test.values)),\n",
    "roc_auc_score(Y_train, xgboost.predict_proba(X_train.values)[:, 1]), roc_auc_score(Y_test, xgboost.predict_proba(X_test.values)[:, 1])] "
   ]
  },
  {
   "cell_type": "markdown",
   "metadata": {
    "colab_type": "text",
    "id": "PPAvctIHE_P7"
   },
   "source": [
    "### 4.6. Neural Network"
   ]
  },
  {
   "cell_type": "code",
   "execution_count": 72,
   "metadata": {
    "colab": {
     "base_uri": "https://localhost:8080/",
     "height": 277
    },
    "colab_type": "code",
    "executionInfo": {
     "elapsed": 152653,
     "status": "ok",
     "timestamp": 1552294389426,
     "user": {
      "displayName": "Nam Hoang",
      "photoUrl": "",
      "userId": "03692964369482339552"
     },
     "user_tz": -60
    },
    "id": "tU280hGxDKz3",
    "outputId": "cebf5611-634b-4f8b-f13d-a64e7c09bab6"
   },
   "outputs": [
    {
     "name": "stdout",
     "output_type": "stream",
     "text": [
      "Fitting 5 folds for each of 3 candidates, totalling 15 fits\n"
     ]
    },
    {
     "name": "stderr",
     "output_type": "stream",
     "text": [
      "[Parallel(n_jobs=-1)]: Using backend LokyBackend with 2 concurrent workers.\n",
      "[Parallel(n_jobs=-1)]: Done  15 out of  15 | elapsed:  2.4min finished\n"
     ]
    },
    {
     "data": {
      "text/plain": [
       "GridSearchCV(cv=5, error_score='raise-deprecating',\n",
       "       estimator=MLPClassifier(activation='relu', alpha=0.0001, batch_size='auto', beta_1=0.9,\n",
       "       beta_2=0.999, early_stopping=False, epsilon=1e-08,\n",
       "       hidden_layer_sizes=(100,), learning_rate='constant',\n",
       "       learning_rate_init=0.001, max_iter=10000, momentum=0.9,\n",
       "       n_iter_no_change=10, nesterovs_momentum=True, power_t=0.5,\n",
       "       random_state=None, shuffle=True, solver='adam', tol=0.0001,\n",
       "       validation_fraction=0.1, verbose=False, warm_start=False),\n",
       "       fit_params=None, iid=False, n_jobs=-1,\n",
       "       param_grid={'hidden_layer_sizes': [(64,), (128,), (256,)]},\n",
       "       pre_dispatch='2*n_jobs', refit=True, return_train_score='warn',\n",
       "       scoring='roc_auc', verbose=2)"
      ]
     },
     "execution_count": 72,
     "metadata": {
      "tags": []
     },
     "output_type": "execute_result"
    }
   ],
   "source": [
    "# Tuning hyper-parameters by GridSearchCV\n",
    "params = {'hidden_layer_sizes': [(64, ), (128, ), (256, )]}\n",
    "nn = GridSearchCV(MLPClassifier(max_iter = 10000), param_grid = params, cv = 5, scoring = 'roc_auc', n_jobs = -1, verbose = 2, iid = False)\n",
    "nn.fit(X_train, Y_train)"
   ]
  },
  {
   "cell_type": "code",
   "execution_count": 73,
   "metadata": {
    "colab": {
     "base_uri": "https://localhost:8080/",
     "height": 35
    },
    "colab_type": "code",
    "executionInfo": {
     "elapsed": 994,
     "status": "ok",
     "timestamp": 1552294401423,
     "user": {
      "displayName": "Nam Hoang",
      "photoUrl": "",
      "userId": "03692964369482339552"
     },
     "user_tz": -60
    },
    "id": "fvvMEgRjDK79",
    "outputId": "6ace81b4-76dd-4179-c461-8d5d2a579898"
   },
   "outputs": [
    {
     "data": {
      "text/plain": [
       "{'hidden_layer_sizes': (64,)}"
      ]
     },
     "execution_count": 73,
     "metadata": {
      "tags": []
     },
     "output_type": "execute_result"
    }
   ],
   "source": [
    "nn.best_params_"
   ]
  },
  {
   "cell_type": "code",
   "execution_count": 74,
   "metadata": {
    "colab": {
     "base_uri": "https://localhost:8080/",
     "height": 35
    },
    "colab_type": "code",
    "executionInfo": {
     "elapsed": 860,
     "status": "ok",
     "timestamp": 1552294404288,
     "user": {
      "displayName": "Nam Hoang",
      "photoUrl": "",
      "userId": "03692964369482339552"
     },
     "user_tz": -60
    },
    "id": "T6g9Hn7eDLB6",
    "outputId": "52006741-ddf0-4f64-c5d4-0407031887d7"
   },
   "outputs": [
    {
     "data": {
      "text/plain": [
       "0.8965597596530832"
      ]
     },
     "execution_count": 74,
     "metadata": {
      "tags": []
     },
     "output_type": "execute_result"
    }
   ],
   "source": [
    "nn.best_score_"
   ]
  },
  {
   "cell_type": "code",
   "execution_count": 78,
   "metadata": {
    "colab": {
     "base_uri": "https://localhost:8080/",
     "height": 69
    },
    "colab_type": "code",
    "executionInfo": {
     "elapsed": 1009,
     "status": "ok",
     "timestamp": 1552294536899,
     "user": {
      "displayName": "Nam Hoang",
      "photoUrl": "",
      "userId": "03692964369482339552"
     },
     "user_tz": -60
    },
    "id": "m_KBJZZlDLUr",
    "outputId": "fd591c86-757f-43f7-92e1-84ca3b7dbdde"
   },
   "outputs": [
    {
     "name": "stdout",
     "output_type": "stream",
     "text": [
      "Accuracy of Neural Network model on test set: 90.77%\n",
      "F1 Score of Neural Network model on test set: 0.58\n",
      "AUC of Neural Network model on test set: 0.87\n"
     ]
    }
   ],
   "source": [
    "print('Accuracy of Neural Network model on test set: {:.2f}%'.format(accuracy_score(Y_test, nn.predict(X_test))*100))\n",
    "print('F1 Score of Neural Network model on test set: {:.2f}'.format(f1_score(Y_test, nn.predict(X_test.values))))\n",
    "print('AUC of Neural Network model on test set: {:.2f}'.format(roc_auc_score(Y_test, nn.predict_proba(X_test.values)[:, 1])))"
   ]
  },
  {
   "cell_type": "code",
   "execution_count": 76,
   "metadata": {
    "colab": {
     "base_uri": "https://localhost:8080/",
     "height": 411
    },
    "colab_type": "code",
    "executionInfo": {
     "elapsed": 1338,
     "status": "ok",
     "timestamp": 1552294413085,
     "user": {
      "displayName": "Nam Hoang",
      "photoUrl": "",
      "userId": "03692964369482339552"
     },
     "user_tz": -60
    },
    "id": "Q7rT4QR6DLX5",
    "outputId": "03bd4761-730a-41cc-9a1e-34fc9e35ed90"
   },
   "outputs": [
    {
     "data": {
      "image/png": "[encoded data removed]",
      "text/plain": [
       "<Figure size 432x432 with 1 Axes>"
      ]
     },
     "metadata": {
      "tags": []
     },
     "output_type": "display_data"
    }
   ],
   "source": [
    "plot_roc_curve(nn)"
   ]
  },
  {
   "cell_type": "code",
   "execution_count": 0,
   "metadata": {
    "colab": {},
    "colab_type": "code",
    "id": "Qiq4pnqqDLeF"
   },
   "outputs": [],
   "source": [
    "results.loc[len(results), :] = ['Neural Network', accuracy_score(Y_train, nn.predict(X_train)), accuracy_score(Y_test, nn.predict(X_test)),\n",
    "f1_score(Y_train, nn.predict(X_train)), f1_score(Y_test, nn.predict(X_test)),\n",
    "roc_auc_score(Y_train, nn.predict_proba(X_train)[:, 1]), roc_auc_score(Y_test, nn.predict_proba(X_test)[:, 1])] "
   ]
  },
  {
   "cell_type": "markdown",
   "metadata": {
    "colab_type": "text",
    "id": "lm4_EGGjl1tI"
   },
   "source": [
    "### 4.7. Deep Neural Network with LSTM\n",
    "\n",
    "We will try a combination of Numerical Features extracted from TF-IDF and original texts using Deep neural network and sequence model (RNN architecture, specially bidirectional LSTM model). Here is the model we will implement:\n",
    "\n",
    "<img src=\"NNarchitecture.png\" style=\"width:800px;height:400px;\"> <br>\n",
    "<caption><center> <b><u> Figure </b></u>: Deep Neural Network with LSTM. </center></caption>"
   ]
  },
  {
   "cell_type": "code",
   "execution_count": 83,
   "metadata": {
    "colab": {
     "base_uri": "https://localhost:8080/",
     "height": 35
    },
    "colab_type": "code",
    "executionInfo": {
     "elapsed": 77666,
     "status": "ok",
     "timestamp": 1552294696848,
     "user": {
      "displayName": "Nam Hoang",
      "photoUrl": "",
      "userId": "03692964369482339552"
     },
     "user_tz": -60
    },
    "id": "wzXsLIskDL8m",
    "outputId": "8ca1e57f-85f3-4273-9394-68d0ffad87f6"
   },
   "outputs": [
    {
     "name": "stderr",
     "output_type": "stream",
     "text": [
      "2000000it [01:16, 26093.53it/s]\n"
     ]
    }
   ],
   "source": [
    "import io\n",
    "from tqdm import tqdm\n",
    "\n",
    "# Loading pre-trained word vectors (300-dimensional vectors) for French (https://fasttext.cc/docs/en/crawl-vectors.html)\n",
    "def load_vectors(fname):\n",
    "    fin = io.open(fname, 'r', encoding='utf-8', newline='\\n', errors='ignore')\n",
    "    n, d = map(int, fin.readline().split())\n",
    "    data = {}\n",
    "    for line in tqdm(fin):\n",
    "        tokens = line.rstrip().split(' ')\n",
    "        if tokens[0] in dic.keys():\n",
    "            data[tokens[0]] = np.array(list(map(float, tokens[1:])))\n",
    "    return data\n",
    "embedding_index = load_vectors('../input/cc.fr.300.vec')"
   ]
  },
  {
   "cell_type": "code",
   "execution_count": 81,
   "metadata": {
    "colab": {
     "base_uri": "https://localhost:8080/",
     "height": 35
    },
    "colab_type": "code",
    "executionInfo": {
     "elapsed": 1718,
     "status": "ok",
     "timestamp": 1552294589287,
     "user": {
      "displayName": "Nam Hoang",
      "photoUrl": "",
      "userId": "03692964369482339552"
     },
     "user_tz": -60
    },
    "id": "Wd8TebHiDL6K",
    "outputId": "6a0a4173-28e4-4278-99c2-ef28ba45aa87"
   },
   "outputs": [
    {
     "name": "stderr",
     "output_type": "stream",
     "text": [
      "Using TensorFlow backend.\n"
     ]
    }
   ],
   "source": [
    "# Importing some function from Keras\n",
    "from keras.optimizers import Adam\n",
    "from keras.preprocessing.text import Tokenizer\n",
    "from keras.preprocessing.sequence import pad_sequences\n",
    "from keras.models import Sequential, Model, load_model\n",
    "from keras.layers import Embedding, MaxPooling1D, GlobalMaxPooling2D, GlobalMaxPooling1D, Conv1D, Concatenate, GRU, Reshape, PReLU, Bidirectional, CuDNNLSTM, SpatialDropout1D, LSTM, Dense, BatchNormalization, Dropout, Activation, Flatten, Conv2D, MaxPooling2D, Input, GlobalAveragePooling2D, GlobalAveragePooling1D, Lambda, AveragePooling1D\n",
    "from keras.regularizers import l2\n",
    "from keras.callbacks import EarlyStopping, ModelCheckpoint\n",
    "import keras.backend as K"
   ]
  },
  {
   "cell_type": "code",
   "execution_count": 84,
   "metadata": {
    "colab": {
     "base_uri": "https://localhost:8080/",
     "height": 35
    },
    "colab_type": "code",
    "executionInfo": {
     "elapsed": 1425,
     "status": "ok",
     "timestamp": 1552294717267,
     "user": {
      "displayName": "Nam Hoang",
      "photoUrl": "",
      "userId": "03692964369482339552"
     },
     "user_tz": -60
    },
    "id": "mD4eipmKDLy7",
    "outputId": "daf57745-bcd7-4331-feb8-db4f4b67e185"
   },
   "outputs": [
    {
     "name": "stdout",
     "output_type": "stream",
     "text": [
      "Number of different words in vocabulary: 7333\n"
     ]
    }
   ],
   "source": [
    "max_len = 300 #Cuts off description after 300 words\n",
    "max_words = len(dic)\n",
    "embedding_dim = 300\n",
    "# Tokenizing the text of the raw data\n",
    "tokenizer = Tokenizer(num_words = max_words)\n",
    "tokenizer.fit_on_texts(text_train)\n",
    "word_index = tokenizer.word_index\n",
    "print(f'Number of different words in vocabulary: {len(word_index)}')"
   ]
  },
  {
   "cell_type": "code",
   "execution_count": 0,
   "metadata": {
    "colab": {},
    "colab_type": "code",
    "id": "jbC-MUJ7DLwZ"
   },
   "outputs": [],
   "source": [
    "train_sequences = tokenizer.texts_to_sequences(text_train)\n",
    "test_sequences = tokenizer.texts_to_sequences(text_test) \n",
    "# Turns the lists of integers into a 2D integer tensor of shape (samples, max_len)\n",
    "X_train_text = pad_sequences(train_sequences, maxlen = max_len)\n",
    "X_test_text = pad_sequences(test_sequences, maxlen = max_len)"
   ]
  },
  {
   "cell_type": "code",
   "execution_count": 0,
   "metadata": {
    "colab": {},
    "colab_type": "code",
    "id": "4IkjzJGtDLuT"
   },
   "outputs": [],
   "source": [
    "# Preparing the FastText word-embeddings matrix\n",
    "embedding_matrix = np.zeros((max_words, embedding_dim))\n",
    "for word, i in word_index.items():\n",
    "    if i < max_words:\n",
    "        embedding_vector = embedding_index.get(word)\n",
    "        if embedding_vector is not None:\n",
    "            embedding_matrix[i] = embedding_vector"
   ]
  },
  {
   "cell_type": "code",
   "execution_count": 0,
   "metadata": {
    "colab": {},
    "colab_type": "code",
    "id": "eHt0LiX1DLn0"
   },
   "outputs": [],
   "source": [
    "# Building model\n",
    "all_inputs = []\n",
    "\n",
    "# text architecture\n",
    "text_input = Input(shape = (max_len, ), name='text_input')\n",
    "all_inputs.append(text_input)\n",
    "x = Embedding(embedding_matrix.shape[0], # or len(word_index) + 1\n",
    "              embedding_matrix.shape[1], # or EMBEDDING_DIM,\n",
    "              weights=[embedding_matrix],\n",
    "              input_length=max_len,\n",
    "              trainable=False)(text_input)\n",
    "x = SpatialDropout1D(0.25)(x)\n",
    "x = Bidirectional(CuDNNLSTM(256, return_sequences=True))(x)\n",
    "x = Bidirectional(CuDNNLSTM(256, return_sequences=False))(x)\n",
    "#x = Conv1D(64, kernel_size=3, padding=\"valid\", kernel_initializer=\"glorot_uniform\")(x)\n",
    "#avg_pool = GlobalAveragePooling1D()(x)\n",
    "#max_pool = GlobalMaxPooling1D()(x)\n",
    "#x = Concatenate()([avg_pool, max_pool])\n",
    "x = Dropout(0.3)(x)\n",
    "x = Dense(128, kernel_initializer='he_normal')(x)\n",
    "x = PReLU()(x)\n",
    "x = BatchNormalization()(x)\n",
    "x = Dropout(0.3)(x)\n",
    "\n",
    "# numerical architecture \n",
    "numerical_input = Input(shape=(X_train.shape[1],), name='numerical')\n",
    "all_inputs.append(numerical_input)\n",
    "numerical_dense = Dense(64)(numerical_input) \n",
    "numerical_dense = PReLU()(numerical_dense)\n",
    "\n",
    "# concatenate architecture  \n",
    "x = Concatenate()([x, numerical_dense])\n",
    "x = Dense(256, kernel_initializer='he_normal')(x)\n",
    "x = PReLU()(x)\n",
    "x = BatchNormalization()(x)\n",
    "x = Dropout(0.5)(x)\n",
    "out = Dense(1, activation = 'sigmoid')(x)\n",
    "model = Model(inputs=all_inputs, outputs=out)"
   ]
  },
  {
   "cell_type": "code",
   "execution_count": 91,
   "metadata": {
    "colab": {
     "base_uri": "https://localhost:8080/",
     "height": 815
    },
    "colab_type": "code",
    "executionInfo": {
     "elapsed": 622,
     "status": "ok",
     "timestamp": 1552294822259,
     "user": {
      "displayName": "Nam Hoang",
      "photoUrl": "",
      "userId": "03692964369482339552"
     },
     "user_tz": -60
    },
    "id": "As4BwDWaDLhp",
    "outputId": "a294b47f-842d-443c-dbc5-6555fe934f22"
   },
   "outputs": [
    {
     "name": "stdout",
     "output_type": "stream",
     "text": [
      "__________________________________________________________________________________________________\n",
      "Layer (type)                    Output Shape         Param #     Connected to                     \n",
      "==================================================================================================\n",
      "text_input (InputLayer)         (None, 300)          0                                            \n",
      "__________________________________________________________________________________________________\n",
      "embedding_2 (Embedding)         (None, 300, 300)     2453100     text_input[0][0]                 \n",
      "__________________________________________________________________________________________________\n",
      "spatial_dropout1d_2 (SpatialDro (None, 300, 300)     0           embedding_2[0][0]                \n",
      "__________________________________________________________________________________________________\n",
      "bidirectional_3 (Bidirectional) (None, 300, 512)     1142784     spatial_dropout1d_2[0][0]        \n",
      "__________________________________________________________________________________________________\n",
      "bidirectional_4 (Bidirectional) (None, 512)          1576960     bidirectional_3[0][0]            \n",
      "__________________________________________________________________________________________________\n",
      "dropout_4 (Dropout)             (None, 512)          0           bidirectional_4[0][0]            \n",
      "__________________________________________________________________________________________________\n",
      "dense_5 (Dense)                 (None, 128)          65664       dropout_4[0][0]                  \n",
      "__________________________________________________________________________________________________\n",
      "p_re_lu_4 (PReLU)               (None, 128)          128         dense_5[0][0]                    \n",
      "__________________________________________________________________________________________________\n",
      "numerical (InputLayer)          (None, 306)          0                                            \n",
      "__________________________________________________________________________________________________\n",
      "batch_normalization_3 (BatchNor (None, 128)          512         p_re_lu_4[0][0]                  \n",
      "__________________________________________________________________________________________________\n",
      "dense_6 (Dense)                 (None, 64)           19648       numerical[0][0]                  \n",
      "__________________________________________________________________________________________________\n",
      "dropout_5 (Dropout)             (None, 128)          0           batch_normalization_3[0][0]      \n",
      "__________________________________________________________________________________________________\n",
      "p_re_lu_5 (PReLU)               (None, 64)           64          dense_6[0][0]                    \n",
      "__________________________________________________________________________________________________\n",
      "concatenate_2 (Concatenate)     (None, 192)          0           dropout_5[0][0]                  \n",
      "                                                                 p_re_lu_5[0][0]                  \n",
      "__________________________________________________________________________________________________\n",
      "dense_7 (Dense)                 (None, 256)          49408       concatenate_2[0][0]              \n",
      "__________________________________________________________________________________________________\n",
      "p_re_lu_6 (PReLU)               (None, 256)          256         dense_7[0][0]                    \n",
      "__________________________________________________________________________________________________\n",
      "batch_normalization_4 (BatchNor (None, 256)          1024        p_re_lu_6[0][0]                  \n",
      "__________________________________________________________________________________________________\n",
      "dropout_6 (Dropout)             (None, 256)          0           batch_normalization_4[0][0]      \n",
      "__________________________________________________________________________________________________\n",
      "dense_8 (Dense)                 (None, 1)            257         dropout_6[0][0]                  \n",
      "==================================================================================================\n",
      "Total params: 5,309,805\n",
      "Trainable params: 2,855,937\n",
      "Non-trainable params: 2,453,868\n",
      "__________________________________________________________________________________________________\n"
     ]
    }
   ],
   "source": [
    "model.summary()"
   ]
  },
  {
   "cell_type": "code",
   "execution_count": 0,
   "metadata": {
    "colab": {},
    "colab_type": "code",
    "id": "X2QMYr6mDLbS"
   },
   "outputs": [],
   "source": [
    "model.compile(loss='binary_crossentropy', optimizer = Adam(lr = 0.01, decay = 0.01), metrics=['accuracy'])\n",
    "check_point = ModelCheckpoint('NNmodel.hdf5', monitor='val_loss', mode='min', save_best_only=True, verbose=1)\n",
    "early_stop = EarlyStopping(patience=5)"
   ]
  },
  {
   "cell_type": "code",
   "execution_count": 97,
   "metadata": {
    "colab": {
     "base_uri": "https://localhost:8080/",
     "height": 557
    },
    "colab_type": "code",
    "executionInfo": {
     "elapsed": 123008,
     "status": "ok",
     "timestamp": 1552295949197,
     "user": {
      "displayName": "Nam Hoang",
      "photoUrl": "",
      "userId": "03692964369482339552"
     },
     "user_tz": -60
    },
    "id": "Gv_cidTZDLAS",
    "outputId": "d533daf4-2fa3-4f6a-b99b-7ad8f0aa4189"
   },
   "outputs": [
    {
     "name": "stdout",
     "output_type": "stream",
     "text": [
      "Train on 5330 samples, validate on 1333 samples\n",
      "Epoch 1/30\n",
      "5330/5330 [==============================] - 18s 3ms/step - loss: 0.2103 - acc: 0.9178 - val_loss: 0.2796 - val_acc: 0.8957\n",
      "\n",
      "Epoch 00001: val_loss did not improve from 0.26508\n",
      "Epoch 2/30\n",
      "5330/5330 [==============================] - 17s 3ms/step - loss: 0.2058 - acc: 0.9159 - val_loss: 0.2588 - val_acc: 0.9100\n",
      "\n",
      "Epoch 00002: val_loss improved from 0.26508 to 0.25880, saving model to NNmodel.hdf5\n",
      "Epoch 3/30\n",
      "5330/5330 [==============================] - 17s 3ms/step - loss: 0.2040 - acc: 0.9169 - val_loss: 0.2635 - val_acc: 0.9010\n",
      "\n",
      "Epoch 00003: val_loss did not improve from 0.25880\n",
      "Epoch 4/30\n",
      "5330/5330 [==============================] - 17s 3ms/step - loss: 0.2096 - acc: 0.9161 - val_loss: 0.2629 - val_acc: 0.9010\n",
      "\n",
      "Epoch 00004: val_loss did not improve from 0.25880\n",
      "Epoch 5/30\n",
      "5330/5330 [==============================] - 17s 3ms/step - loss: 0.2045 - acc: 0.9167 - val_loss: 0.2754 - val_acc: 0.9047\n",
      "\n",
      "Epoch 00005: val_loss did not improve from 0.25880\n",
      "Epoch 6/30\n",
      "5330/5330 [==============================] - 17s 3ms/step - loss: 0.2034 - acc: 0.9182 - val_loss: 0.2819 - val_acc: 0.9002\n",
      "\n",
      "Epoch 00006: val_loss did not improve from 0.25880\n",
      "Epoch 7/30\n",
      "5330/5330 [==============================] - 17s 3ms/step - loss: 0.2014 - acc: 0.9169 - val_loss: 0.2945 - val_acc: 0.8965\n",
      "\n",
      "Epoch 00007: val_loss did not improve from 0.25880\n"
     ]
    },
    {
     "data": {
      "text/plain": [
       "<keras.callbacks.History at 0x7fcdd2a29cf8>"
      ]
     },
     "execution_count": 97,
     "metadata": {
      "tags": []
     },
     "output_type": "execute_result"
    }
   ],
   "source": [
    "model.fit([X_train_text, X_train.values], Y_train.values, validation_data = ([X_test_text, X_test.values], Y_test.values), epochs = 30, \n",
    "          callbacks=[check_point, early_stop], batch_size = 512)"
   ]
  },
  {
   "cell_type": "code",
   "execution_count": 0,
   "metadata": {
    "colab": {},
    "colab_type": "code",
    "id": "DkQa6LC1DK5_"
   },
   "outputs": [],
   "source": [
    "model.load_weights('NNmodel.hdf5')"
   ]
  },
  {
   "cell_type": "code",
   "execution_count": 0,
   "metadata": {
    "colab": {},
    "colab_type": "code",
    "id": "6reeG--ynO3K"
   },
   "outputs": [],
   "source": [
    "Y_train_proba = model.predict([X_train_text, X_train.values]).ravel()\n",
    "Y_test_proba = model.predict([X_test_text, X_test.values]).ravel()"
   ]
  },
  {
   "cell_type": "code",
   "execution_count": 0,
   "metadata": {
    "colab": {},
    "colab_type": "code",
    "id": "tpLL0RSZnX8g"
   },
   "outputs": [],
   "source": [
    "Y_train_pred = np.round(Y_train_proba)\n",
    "Y_test_pred = np.round(Y_test_proba)"
   ]
  },
  {
   "cell_type": "code",
   "execution_count": 101,
   "metadata": {
    "colab": {
     "base_uri": "https://localhost:8080/",
     "height": 69
    },
    "colab_type": "code",
    "executionInfo": {
     "elapsed": 687,
     "status": "ok",
     "timestamp": 1552295992231,
     "user": {
      "displayName": "Nam Hoang",
      "photoUrl": "",
      "userId": "03692964369482339552"
     },
     "user_tz": -60
    },
    "id": "iX_BzU93M6L2",
    "outputId": "a747b25e-dd07-4acc-e644-3b1dc49324e7"
   },
   "outputs": [
    {
     "name": "stdout",
     "output_type": "stream",
     "text": [
      "Accuracy of Deep Neural Network model on test set: 91.00%\n",
      "F1 Score of Deep Neural Network model on test set: 0.53\n",
      "AUC of Deep Neural Network model on test set: 0.87\n"
     ]
    }
   ],
   "source": [
    "print('Accuracy of Deep Neural Network model on test set: {:.2f}%'.format(accuracy_score(Y_test, Y_test_pred)*100))\n",
    "print('F1 Score of Deep Neural Network model on test set: {:.2f}'.format(f1_score(Y_test, Y_test_pred)))\n",
    "print('AUC of Deep Neural Network model on test set: {:.2f}'.format(roc_auc_score(Y_test, Y_test_proba)))"
   ]
  },
  {
   "cell_type": "code",
   "execution_count": 0,
   "metadata": {
    "colab": {},
    "colab_type": "code",
    "id": "bsmOOEasM6PN"
   },
   "outputs": [],
   "source": [
    "results.loc[len(results), :] = ['DeepNN LSTM', accuracy_score(Y_train, Y_train_pred), accuracy_score(Y_test, Y_test_pred),\n",
    "f1_score(Y_train, Y_train_pred), f1_score(Y_test, Y_test_pred),\n",
    "roc_auc_score(Y_train, Y_train_proba), roc_auc_score(Y_test, Y_test_proba)] "
   ]
  },
  {
   "cell_type": "markdown",
   "metadata": {
    "colab_type": "text",
    "id": "OmOPFcWropSl"
   },
   "source": [
    "### 4.8. Model comparison"
   ]
  },
  {
   "cell_type": "code",
   "execution_count": 105,
   "metadata": {
    "colab": {
     "base_uri": "https://localhost:8080/",
     "height": 263
    },
    "colab_type": "code",
    "executionInfo": {
     "elapsed": 1067,
     "status": "ok",
     "timestamp": 1552296060024,
     "user": {
      "displayName": "Nam Hoang",
      "photoUrl": "",
      "userId": "03692964369482339552"
     },
     "user_tz": -60
    },
    "id": "5ox9m5sWDK3o",
    "outputId": "dc750f4f-0427-42b5-9cfd-1c318501d494"
   },
   "outputs": [
    {
     "data": {
      "text/html": [
       "<div>\n",
       "<style scoped>\n",
       "    .dataframe tbody tr th:only-of-type {\n",
       "        vertical-align: middle;\n",
       "    }\n",
       "\n",
       "    .dataframe tbody tr th {\n",
       "        vertical-align: top;\n",
       "    }\n",
       "\n",
       "    .dataframe thead th {\n",
       "        text-align: right;\n",
       "    }\n",
       "</style>\n",
       "<table border=\"1\" class=\"dataframe\">\n",
       "  <thead>\n",
       "    <tr style=\"text-align: right;\">\n",
       "      <th></th>\n",
       "      <th>Model</th>\n",
       "      <th>ACC_train</th>\n",
       "      <th>ACC_test</th>\n",
       "      <th>F1_train</th>\n",
       "      <th>F1_test</th>\n",
       "      <th>AUC_train</th>\n",
       "      <th>AUC_test</th>\n",
       "    </tr>\n",
       "  </thead>\n",
       "  <tbody>\n",
       "    <tr>\n",
       "      <th>0</th>\n",
       "      <td>Logistic Regression</td>\n",
       "      <td>0.921201</td>\n",
       "      <td>0.910728</td>\n",
       "      <td>0.650582</td>\n",
       "      <td>0.573477</td>\n",
       "      <td>0.938361</td>\n",
       "      <td>0.886544</td>\n",
       "    </tr>\n",
       "    <tr>\n",
       "      <th>1</th>\n",
       "      <td>Random Forest</td>\n",
       "      <td>0.932458</td>\n",
       "      <td>0.909977</td>\n",
       "      <td>0.707792</td>\n",
       "      <td>0.552239</td>\n",
       "      <td>0.963631</td>\n",
       "      <td>0.871992</td>\n",
       "    </tr>\n",
       "    <tr>\n",
       "      <th>2</th>\n",
       "      <td>Gradient Boosting</td>\n",
       "      <td>0.955159</td>\n",
       "      <td>0.904726</td>\n",
       "      <td>0.82204</td>\n",
       "      <td>0.548043</td>\n",
       "      <td>0.977778</td>\n",
       "      <td>0.880132</td>\n",
       "    </tr>\n",
       "    <tr>\n",
       "      <th>3</th>\n",
       "      <td>Light GBM</td>\n",
       "      <td>0.955347</td>\n",
       "      <td>0.906977</td>\n",
       "      <td>0.822917</td>\n",
       "      <td>0.560284</td>\n",
       "      <td>0.980246</td>\n",
       "      <td>0.864083</td>\n",
       "    </tr>\n",
       "    <tr>\n",
       "      <th>4</th>\n",
       "      <td>XGBoost</td>\n",
       "      <td>0.955347</td>\n",
       "      <td>0.906227</td>\n",
       "      <td>0.823442</td>\n",
       "      <td>0.56446</td>\n",
       "      <td>0.979222</td>\n",
       "      <td>0.871277</td>\n",
       "    </tr>\n",
       "    <tr>\n",
       "      <th>5</th>\n",
       "      <td>Neural Network</td>\n",
       "      <td>0.921764</td>\n",
       "      <td>0.907727</td>\n",
       "      <td>0.679477</td>\n",
       "      <td>0.580205</td>\n",
       "      <td>0.940371</td>\n",
       "      <td>0.873919</td>\n",
       "    </tr>\n",
       "    <tr>\n",
       "      <th>6</th>\n",
       "      <td>DeepNN LSTM</td>\n",
       "      <td>0.909006</td>\n",
       "      <td>0.909977</td>\n",
       "      <td>0.557078</td>\n",
       "      <td>0.53125</td>\n",
       "      <td>0.941591</td>\n",
       "      <td>0.874615</td>\n",
       "    </tr>\n",
       "  </tbody>\n",
       "</table>\n",
       "</div>"
      ],
      "text/plain": [
       "                 Model ACC_train  ACC_test  F1_train   F1_test AUC_train  \\\n",
       "0  Logistic Regression  0.921201  0.910728  0.650582  0.573477  0.938361   \n",
       "1        Random Forest  0.932458  0.909977  0.707792  0.552239  0.963631   \n",
       "2    Gradient Boosting  0.955159  0.904726   0.82204  0.548043  0.977778   \n",
       "3            Light GBM  0.955347  0.906977  0.822917  0.560284  0.980246   \n",
       "4              XGBoost  0.955347  0.906227  0.823442   0.56446  0.979222   \n",
       "5       Neural Network  0.921764  0.907727  0.679477  0.580205  0.940371   \n",
       "6          DeepNN LSTM  0.909006  0.909977  0.557078   0.53125  0.941591   \n",
       "\n",
       "   AUC_test  \n",
       "0  0.886544  \n",
       "1  0.871992  \n",
       "2  0.880132  \n",
       "3  0.864083  \n",
       "4  0.871277  \n",
       "5  0.873919  \n",
       "6  0.874615  "
      ]
     },
     "execution_count": 105,
     "metadata": {
      "tags": []
     },
     "output_type": "execute_result"
    }
   ],
   "source": [
    "results"
   ]
  },
  {
   "cell_type": "markdown",
   "metadata": {},
   "source": [
    "**Comment:**\n",
    "\n",
    "- Logistic Regression gives the highest Accuracy and AUC in the test set, while these values calculated in the training set are quite low ( lowest AUC in training set among all models). Thus, the overfitting is reduced.\n",
    "\n",
    "- Basic Neural Network with one hidden layer gives the highest F1-score in the test set, while its F1-score in training set is quite low comparing with the other models, so the overfitting problem is reduced.\n"
   ]
  },
  {
   "cell_type": "markdown",
   "metadata": {
    "colab_type": "text",
    "id": "tWdB71Dtou0e"
   },
   "source": [
    "## 5. Conclusion\n",
    "\n",
    "- In general, group of models Neural Network give better performances in test sets, while group of tree-based model exhibits high overfitting. In real practice, we can set up different metrics based on the purposes and applied situation of the problem, then, we have appropriate models. However, in this problem, with better performances associated with the simplity and high-running-speed, the logistic regression model is likely to deploy in virtual reality, especially while the size of database explodes.\n",
    "\n",
    "- LSTM network, one type of Recurrent Neural Networks (RNN) that are very effective for Natural Language Processing and other sequence tasks (because they have \"memory\") is employed but cannot give better results than other models. However, it can be noted that with this model, the evaluation metrics results in both training and test sets are similar, which means that overfitting has been reduced to the maximum. It could be explained by A bidirection LSTM remember some information/context through the hidden layer activations that get passed from one time-step to the next.\n",
    "\n",
    "- As mentioned in EDA part, the appearance of the word `couverture` plays the most important role in almost models. Based on these above plots features importance, mainly, features tf-idf which had been reduced information plays an important role. This can be explained as such a basic problem, text classification by description is well solved by looking at what words occur in each description, and at what frequency. For some Statistical features of text, only average characters per word feature is one the top 15 in several tree-based models.\n",
    "\n",
    "- In this study, I have implemented reduction information by choosing the number of components = 300. This allow to remain more than 75% information but we lost also much information. In the case of improving the proportion of remained information by increasing number of components, we may face with overfitting problem. In order to improve the result, we can tune number of components and run several different model, or unsqueeze the weights of embedding layer to do some fine-tuning, which require more and more resources.\n",
    "\n"
   ]
  }
 ],
 "metadata": {
  "accelerator": "GPU",
  "colab": {
   "collapsed_sections": [],
   "name": "Untitled0.ipynb",
   "provenance": [],
   "toc_visible": true,
   "version": "0.3.2"
  },
  "kernelspec": {
   "display_name": "THANGHOANG",
   "language": "python",
   "name": "thanghoang"
  },
  "language_info": {
   "codemirror_mode": {
    "name": "ipython",
    "version": 3
   },
   "file_extension": ".py",
   "mimetype": "text/x-python",
   "name": "python",
   "nbconvert_exporter": "python",
   "pygments_lexer": "ipython3",
   "version": "3.6.7"
  }
 },
 "nbformat": 4,
 "nbformat_minor": 1
}
